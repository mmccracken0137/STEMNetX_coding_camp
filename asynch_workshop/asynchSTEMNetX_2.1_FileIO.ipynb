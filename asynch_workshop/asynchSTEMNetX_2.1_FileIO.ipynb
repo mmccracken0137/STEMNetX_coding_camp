{
 "cells": [
  {
   "cell_type": "markdown",
   "metadata": {},
   "source": [
    "# Lesson 2.1: File I/O"
   ]
  },
  {
   "cell_type": "markdown",
   "metadata": {},
   "source": [
    "Aaaaaaand we're back.  In the previous lesson we learned a really important skill: generating (random) data.  Now is a good time to talk about how to store and access data.\n",
    "\n",
    "## File I/O\n",
    "\n",
    "Most modern research fields involve collecting data and then \"analyzing\" this data to produce results.  A straight-forward example would be something like the US Census; data (information from each household) is collected, and then an analysis is performed to produce aggregate results like family income distributions, demographics, *etc.*  Very rarely in science are collected data and results the same thing -- we often have to analyze the results of our measurements (the \"raw data\") to generate some *knowledge or wisdom* (the \"results\").\n",
    "\n",
    "You may have analyzed data earlier in your life with a spreadsheet program like Microsoft Excel, and this is fine for some tasks.\n",
    "Excel and similar make the dataset and the analysis the same entity: you enter both the data and calculations into the same spreadsheet document.\n",
    "When datasets get LARGE or one is interested in more sophisticated or multi-dimensional analyses, Excel (or similar) is inefficient, confusing, incapable, and in some cases *dangerous*.\n",
    "\n",
    "Here's an example of Excel gone wrong.  This will make your blood boil, so don't read it in this workshop:\n",
    "- Mark Ziemann, [Excel autocorrect errors still plague genetic research, raising concerns over scientific rigour](https://theconversation.com/excel-autocorrect-errors-still-plague-genetic-research-raising-concerns-over-scientific-rigour-166554). *The Conversation* (2021)\n",
    "\n",
    "We've now seen that computers are better than humans at completing repetitive, tedious tasks.\n",
    "Computers are also arguiably better than humans at relibly storing and retrieving data.  Once we've generated a large dataset, we want to store it in a file, and (hopefully) retreive that data for later analysis.  These activities are usually referred to as \"File Input/Output\" or \"File I/O\".\n",
    "\n",
    "***\n",
    "\n",
    "### Writing to file\n",
    "Writing to file is simple with `python`.  Check out this block of code:"
   ]
  },
  {
   "cell_type": "code",
   "execution_count": null,
   "metadata": {},
   "outputs": [],
   "source": [
    "outputfile = open(\"testfile.txt\", \"w\")\n",
    "statement = \"Hello, world!\"\n",
    "outputfile.write(statement)\n",
    "outputfile.close()"
   ]
  },
  {
   "cell_type": "markdown",
   "metadata": {},
   "source": [
    "The first line creates/opens a new file called `testfile.txt`.  I've told `python` to open the file in write mode by specifying the `\"w\"`, meaning that `python` can expect to only be putting info *into* the file.  The third line writes the text \n",
    "> `Hello, world!`\n",
    "\n",
    "into the file.  The fourth line closes the file, *i.e.*, tells `python` that we're done with the file for now.  When you run the cell above, you should find that there's a new file `testfile.txt` in the same directory where this notebook file lives.  If not, you've got problems; figure them out before proceeding.\n",
    "\n",
    "#### Warm-up problem\n",
    "Write a snippet of code that creates a new file called `tonz_of_numberz.txt` and writes 100000 random numbers between 0 and 1 into it.  Each line of the file should be a single number.  Hint: Put it in a loop!  Additional hint: If you don't want all of your numbers to be on the same line, you might have to do an additional write of a newline character (`'\\n'`)."
   ]
  },
  {
   "cell_type": "code",
   "execution_count": null,
   "metadata": {},
   "outputs": [],
   "source": [
    "# put your warm-up code here"
   ]
  },
  {
   "cell_type": "markdown",
   "metadata": {},
   "source": [
    "***\n",
    "\n",
    "## Strings (are things)\n",
    "In a previous lesson I very quickly introdcued the `str` (string) data type.  As a reminder, a `str` is a string of alpha-numeric characters. In the first example above, we set the value of the variable `statement` to be something that definitely wasn't a number (`\"Hello world!\"`).  In fact, when `python` writes anything (even a number) to file, if first converts it to a `str`.  When `python` reads anything (even something that is obviously (to you or me) is a number) from file, it reads it as a `str`.  So, when performing file I/O we sometimes need to be careful to convert to/from strings.\n",
    "\n",
    "As a reminder, strings can be manipulated in cute arithmetic-looking ways:"
   ]
  },
  {
   "cell_type": "code",
   "execution_count": null,
   "metadata": {},
   "outputs": [],
   "source": [
    "str1 = \"house\"\n",
    "str2 = \"cat\"\n",
    "str3 = str1 + str2\n",
    "print(\"I have a \" + str3)"
   ]
  },
  {
   "cell_type": "markdown",
   "metadata": {},
   "source": [
    "Strings can be manipulated like this.  In general when we set the value of a variable to be anything in quotes, that variable's type is `str`.\n",
    "\n",
    "One must be careful when mixing strings and other types, though.  For example, the last line of the block below *looks* sensible, but it will fail.  Uncomment and try!"
   ]
  },
  {
   "cell_type": "code",
   "execution_count": null,
   "metadata": {},
   "outputs": [],
   "source": [
    "number_of_cats = 904\n",
    "sentence1 = \"I have \"\n",
    "sentence2 = \" housecats.\"\n",
    "#print(sentence1 + number_of_cats + sentence2)"
   ]
  },
  {
   "cell_type": "markdown",
   "metadata": {},
   "source": [
    "Oops!  `python` doesn't quite know how to do addition of a `str` and `int` in this case.  Said another way, `python` doesn't have a built-in rule for how to apply `+` to a `str` and an `int`.  I have to be a bit more specific/careful and *cast* my `int` to a `str`:"
   ]
  },
  {
   "cell_type": "code",
   "execution_count": null,
   "metadata": {},
   "outputs": [],
   "source": [
    "print(sentence1 + str(number_of_cats) + sentence2)"
   ]
  },
  {
   "cell_type": "markdown",
   "metadata": {},
   "source": [
    "See what I did there?  Doing something like `str(904)` converts (or \"casts\") the number to a string that can then be written, printed, or read.  In some cases, `python` is smart enough to figure out what you mean; in others it can't.  Another way to to print this line is:"
   ]
  },
  {
   "cell_type": "code",
   "execution_count": null,
   "metadata": {},
   "outputs": [],
   "source": [
    "print(sentence1, number_of_cats, sentence2)"
   ]
  },
  {
   "cell_type": "markdown",
   "metadata": {},
   "source": [
    "Here `print` can treat each of the three variable separately, and it knows how to treat each based on its type.\n",
    "There are lots of fun things that one can do with strings.  Here are some examples for you to decipher."
   ]
  },
  {
   "cell_type": "code",
   "execution_count": null,
   "metadata": {},
   "outputs": [],
   "source": [
    "number = 43185726\n",
    "string1 = str(number)\n",
    "print(string1)\n",
    "print(len(string1))\n",
    "print(string1.isalpha())\n",
    "print(string1.isdigit())\n",
    "print(string1[0])\n",
    "print(string1[3])\n",
    "print(string1[-2])\n",
    "print(string1[2:6])"
   ]
  },
  {
   "cell_type": "markdown",
   "metadata": {},
   "source": [
    "The last few lines show how to access individual characters of a string.  (If you remember working with lists, you might think of strings as lists of individual characters.)  For example, `string1[3]` returns the (zero, one, two) third character in the string.  This can be quite useful.\n",
    "\n",
    "There's one last `str` feature that I want to highlight because we'll use it below (and probably quite a bit thereafter).  The `str` type has a method (a function that belongs to it) called `split()`.  Check out what `split()` does:"
   ]
  },
  {
   "cell_type": "code",
   "execution_count": null,
   "metadata": {},
   "outputs": [],
   "source": [
    "smoothie_ingreds = \"apple, spinach, carrot, yogurt, blueberries, protein powder, motor oil, honey\"\n",
    "print(smoothie_ingreds)\n",
    "print()\n",
    "\n",
    "ingreds_list = smoothie_ingreds.split(\",\")\n",
    "print(ingreds_list)\n",
    "print()\n",
    "for ingred in ingreds_list:\n",
    "    print(ingred.strip())"
   ]
  },
  {
   "cell_type": "markdown",
   "metadata": {},
   "source": [
    "So, `split(\",\")` splits a string into a list at each location where there's a \",\".  Comma isn't special here, you could split on any character that you want!  Try it.  It might not be clear how this could possibly be useful; just wait.\n",
    "\n",
    "See if you can guess what the next two lines of code do:"
   ]
  },
  {
   "cell_type": "code",
   "execution_count": null,
   "metadata": {},
   "outputs": [],
   "source": [
    "print(smoothie_ingreds.split(\"carrot\"))\n",
    "print(smoothie_ingreds.split(\" \"))"
   ]
  },
  {
   "cell_type": "markdown",
   "metadata": {},
   "source": [
    "`str` has a lot of other built-in methods that can be really convenient.  Chances are if there is something that you want to do to/with a `str` there's a quick way to do it."
   ]
  },
  {
   "cell_type": "markdown",
   "metadata": {},
   "source": [
    "***\n",
    "\n",
    "## Reading from file\n",
    "\n",
    "Now that you can make files and write to them, you may want to re-access that delicious stored information.  How to do this?  Simple!  Let's see what's in that old `testfile.txt`..."
   ]
  },
  {
   "cell_type": "code",
   "execution_count": null,
   "metadata": {},
   "outputs": [],
   "source": [
    "inputfile = open(\"testfile.txt\", \"r\")\n",
    "line = inputfile.readline()\n",
    "print(line)\n",
    "inputfile.close()"
   ]
  },
  {
   "cell_type": "markdown",
   "metadata": {},
   "source": [
    "Note the symmetry with the code block above for writing to file.  You probably could have guessed how to do this just by knowing the write syntax and knowing the verbs \"read\" and \"write\". \n",
    "\n",
    "`readline()` is a very useful function for... well, reading a line from a file.  Each time it is called, it reads in the *next* line in the file.  I can be used until there are no more lines to read.  It is convenient to implement in something like a `while` loop."
   ]
  },
  {
   "cell_type": "markdown",
   "metadata": {},
   "source": [
    "Okay!  Here is another warm-up problem:\n",
    "\n",
    "#### Another warm-up problem\n",
    "\n",
    "Read in all of the numbers in the file `tonz_of_numberz.txt` (you made that file, right?) and count how many are greater than 0.75.  "
   ]
  },
  {
   "cell_type": "code",
   "execution_count": null,
   "metadata": {},
   "outputs": [],
   "source": [
    "# put your warm-up code here"
   ]
  },
  {
   "cell_type": "markdown",
   "metadata": {},
   "source": [
    "#### Yet more warm-up \n",
    "Read in all of the numbers in the file `tonz_of_numberz.txt` and count the number that have a '3' in their thenths place.  Can you justify the count?\n"
   ]
  },
  {
   "cell_type": "code",
   "execution_count": null,
   "metadata": {},
   "outputs": [],
   "source": [
    "# put your warm-up code here"
   ]
  },
  {
   "cell_type": "markdown",
   "metadata": {},
   "source": [
    "#### OK, last warm-up problem\n",
    "Read in all of the numbers in the file `tonz_of_numberz.txt` and count the number that have the numeral '3' anywhere in them.  Can you justify the count?"
   ]
  },
  {
   "cell_type": "code",
   "execution_count": null,
   "metadata": {},
   "outputs": [],
   "source": [
    "# put your warm-up code here"
   ]
  },
  {
   "cell_type": "markdown",
   "metadata": {},
   "source": [
    "#### I lied, one more warm-up problem\n",
    "Read in all of the numbers in the file tonz_of_numberz.txt and check to see how many of them begin with 0.1234.  Can you justify the count?"
   ]
  },
  {
   "cell_type": "code",
   "execution_count": null,
   "metadata": {},
   "outputs": [],
   "source": [
    "# put your warm-up code here"
   ]
  },
  {
   "cell_type": "markdown",
   "metadata": {},
   "source": [
    "****\n",
    "\n",
    "## Reading in tabular data \n",
    "Often in the sciences we deal with large files that represent large datasets.  You can picture a spreadsheet in which information is organized in rows and columns.  Data organized like this is said to be \"tabular\", *i.e.* aranged into a table, but people outside of the physical sciences often refer to this as a **relational database**.  Typically, we think of each row as being a single instance or event in the dataset, and each column representing the different features that describe/characterize the instances/events.  Here's an example of what I'm talking about:\n",
    "\n",
    "|name |class year |seating row |is cool |\n",
    "|---|---|---|---|\n",
    "|Annouk|senior|0|1|\n",
    "|Abdul|sophomore|2|1|\n",
    "|Belen|sophomore|2|1|\n",
    "|David|sophomore|1|1|\n",
    "|Iban|sophomore|1|1|\n",
    "|Maria|sophomore|1|1|\n",
    "|Sal|sophomore|0|1|\n",
    "|Xanthippe|first-year|0|1|\n",
    "\n",
    "In order to work with data like this, you might use a graphical spreadsheet program.  What would you do, however, if your spreadsheet had data for tens of thousands of events (or more), each with multiple features?  Programs like Excel can be quite cumbersome or even unworkable for \"big\" data.\n",
    "\n",
    "Programming allows us to read in data and perform calculations *easily* and *reliably*.  In most cases we can look at a block of code and know **exactly** what is being done to each datum that is read in from file.  \n",
    "\n",
    "The following block of code reads in the data in the file `parab_t_and_y.txt`, and makes a graph of the second column's information (position) versus the first column's position.  The data are stored as two lists of numbers (one for $t$ and one for $x$).  `python` can only read in strings, so we'll split each line into two `str`s and then convert them to `floats`.  Make sure that you understad each line of the code below before proceeding.  We will talk about the data visualization stuff in just a bit -- for now, we're just using the graph to show what's possible.\n",
    "\n",
    "Be sure to download the data file and put it in the same directory as this notebook!  The data files for this workshop are in the `data_files` directory on github.  You will likely need to change the filename in the cell below; remove \"data_files/\" from the filename string."
   ]
  },
  {
   "cell_type": "code",
   "execution_count": null,
   "metadata": {},
   "outputs": [],
   "source": [
    "import numpy as np\n",
    "\n",
    "in_file = open(\"data_files/parab_t_and_y.csv\", \"r\")\n",
    "t_list = []\n",
    "y_list = []\n",
    "line = in_file.readline()        # read in the first line\n",
    "while len(line) > 1:             # keep doing loop until there's no more data in the file\n",
    "    line_list = line.split(\",\")  # split the string at each comma\n",
    "    t = float(line_list[0])      # convert time string to a float\n",
    "    y = float(line_list[1])      # convert position string to a float\n",
    "    t_list.append(t)       \n",
    "    y_list.append(y)\n",
    "    line = in_file.readline()\n",
    "    \n",
    "# everything below here we'll worry about next week...\n",
    "import matplotlib.pyplot as plt\n",
    "t_arr = np.array(t_list)         \n",
    "y_arr = np.array(y_list)         \n",
    "\n",
    "fig = plt.figure(figsize=(8,4))\n",
    "plt.plot(t_arr, y_arr, 'o')\n",
    "plt.xlabel('time (s)')\n",
    "plt.ylabel('y position (m)')\n",
    "plt.show()"
   ]
  },
  {
   "cell_type": "markdown",
   "metadata": {},
   "source": [
    "The data file that was read in above is a \"**csv**\" or \"**comma-separated-value*\" file.  This is very similar to the way that, say, Excel stores data, but we're able to access it directly   *:^)*\n",
    "\n",
    "`python` offers some really elegant ways of dealing with strings, but the basic tools in the code block above are soooooo useful.  We'll return to them many times in this workshop.\n",
    "\n",
    "**Now you may ask yourself** why on Earth would I go to the trouble of programming in `python` something simple like this?  Couldn't I do this with Excel in 5-ish minutes?  That is truly a great question, and I can offer you $10^7$ compelling answers.  I will exercise restraint and offer you only two here:\n",
    "1. In this one block of code, we've basically reached the limit of what Excel is capable of in terms of both graphing and formatting.  With general programming structures, however, the possibilities and opportunities for sophistication are endless.\n",
    "2. Suppose we now want to graph a trajectory that of $10^6$ data points?  Can Excel handle that?  Well, you'd first have to load the data into Excel, then apply whatever calculations you need to do, then call up a graph.  With the `python` code above, we simply change the name of the data file we want to access.  Easy. Peasy. (In fact, there's another data file in this repository that has $10^5$ lines; take it for a test drive if you want.)\n",
    "3. (I lied, I'm doing three.)  In doing all of this, WE DID NOT EDIT THE FILE CONTAINING THE DATA.  We read in the data, but we did not modify (and never had the opportunity to modify) the data.  This is completely different from the process of \"programming\" an Excel spreadsheet.  It is safer and more scientificially sound."
   ]
  },
  {
   "cell_type": "markdown",
   "metadata": {},
   "source": [
    "***\n",
    "\n",
    "## In summary\n",
    "\n",
    "If you really want to get me going, ask \"Yeah, but why wouldn't I just do this with Excel?\"\n",
    "\n",
    "Let's do a...\n",
    "\n",
    "### Live demo!\n",
    "\n",
    "#### 1. NBA data\n",
    "The file `NBA_game_data_2000-2014.csv` contains NBA game data (teams, dates, scores) from 15 seans of regular and post-season play. That's nearly 20k games!  Let's say that your instructor believes that the outcomes of some NBA games are determined by non-competitive factors (*i.e.*, some of the games are rigged).  Calculate the following quantities to begin investigating:\n",
    "- total number of games\n",
    "- fraction of total games that are won by ~less~ fewer than 3 points\n",
    "- fraction of total games that are won by the home team"
   ]
  },
  {
   "cell_type": "code",
   "execution_count": null,
   "metadata": {},
   "outputs": [],
   "source": [
    "# demo code goes here!"
   ]
  },
  {
   "cell_type": "markdown",
   "metadata": {},
   "source": [
    "### Homework\n",
    "\n",
    "#### 1. You own a casino.\n",
    "To prevent cheating, your casino monitors the outcomes of dice rolls at one of its craps tables.  Outcomes for 10000 rolls are given in the file `dice_data.txt`.  Read in this file and determine the following:\n",
    "- How many times did the thrower roll snake eyes (1 and 1)?\n",
    "- How many times did the thrower roll box cars (6 and 6)?\n",
    "- How many times did the thrower roll dice totaling 7?\n",
    "- You now own this casino.  After reviewing the data, do you suspect that something fishy is going on?  Explain with quantitative evidence.  For example, if the dice are fair, how often *should* each of the outcomes in parts a-c happen?"
   ]
  },
  {
   "cell_type": "code",
   "execution_count": null,
   "metadata": {},
   "outputs": [],
   "source": []
  },
  {
   "cell_type": "markdown",
   "metadata": {},
   "source": [
    "#### 2. More NBA analysis\n",
    "Return to the NBA game data from the problem above. Calculate:\n",
    "- number of games in which the home team won\n",
    "- fraction of games that went to overtime\n",
    "- fraction of home-team wins in which the home team was losing at the beginning of the 4th quarter\n",
    "- fraction of games that the LA Lakers (most likely cheaters in the league) come from behind in the 4th quarter and won"
   ]
  },
  {
   "cell_type": "code",
   "execution_count": null,
   "metadata": {},
   "outputs": [],
   "source": []
  }
 ],
 "metadata": {
  "kernelspec": {
   "display_name": "Python 3 (ipykernel)",
   "language": "python",
   "name": "python3"
  },
  "language_info": {
   "codemirror_mode": {
    "name": "ipython",
    "version": 3
   },
   "file_extension": ".py",
   "mimetype": "text/x-python",
   "name": "python",
   "nbconvert_exporter": "python",
   "pygments_lexer": "ipython3",
   "version": "3.10.10"
  }
 },
 "nbformat": 4,
 "nbformat_minor": 4
}
