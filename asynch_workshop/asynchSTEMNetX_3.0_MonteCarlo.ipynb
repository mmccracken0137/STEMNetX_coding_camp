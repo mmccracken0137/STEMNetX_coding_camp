{
 "cells": [
  {
   "cell_type": "markdown",
   "metadata": {},
   "source": [
    "# Day 3.0: Monte Carlo "
   ]
  },
  {
   "cell_type": "markdown",
   "metadata": {},
   "source": [
    "## Recap\n",
    "\n",
    "In this lesson I'm breaking the recap into two sections:\n",
    "- foundational programming skills\n",
    "    * basic mathematical operations, comparison operators\n",
    "    * iteration and recursion with loop control structures `for` and `while`\n",
    "    * keeping track of variables outside of loops (i.e., counting and summing)\n",
    "    * function definition and using functions *inside* of loops\n",
    "    * conditionals: `if`, `else`, and `elif`\n",
    "    * types: `int`, `float`, `string`, `bool`\n",
    "    * containers such as `list` and `dict`\n",
    "    * random number generation\n",
    "    * accessing and iterating over elements in lists and dicts\n",
    "    * file I/O\n",
    "    * DEBUGGING!\n",
    "    * algorithmic thinking\n",
    "- applications\n",
    "    * basic (and semi-advanced) data visualization: histograms, scatter plots, higher-dimensions in 2-d\n",
    "\n",
    "Yowza!  That's a lot."
   ]
  },
  {
   "cell_type": "markdown",
   "metadata": {},
   "source": [
    "***\n",
    "\n",
    "## Motivation\n",
    "\n",
    "Next we'll explore a class of techniques referred to as \"Monte Carlo\" (MC).  Before we talk about what MC *is*, let's look at a few examples of how MC is used to generate knowledge.\n",
    "\n",
    "- The MC approach was largely developed during the Manhattan Project, the US military development of nuclear weapons during World War II.  Here is a nice article about how MC was implemented to simulate the transport of neutrons through matter: Kristina Panos. [FERMIAC](https://hackaday.com/2015/09/11/fermiac-the-computer-that-advanced-the-manhattan-project/)\n",
    "- Daniel Fylstra. [*MONTE CARLO METHODS THAT LED TO THE ATOMIC BOMB MAY BE YOUR BEST BET FOR BUSINESS DECISION-MAKING*](https://www.solver.com/press/monte-carlo-methods-led-atomic-bomb-may-be-your-best-bet-business-decision-making).  Note: I did not read this article, and I do not endorse all-caps article titles.\n",
    "- Adam Conrad. [Actuarial Application of Monte Carlo Simulation](https://www.slideshare.net/AdamConrad2/actuarial-application-of-monte-carlo-simulation-46703744). Might sound like a snoozer, but some really cool examples.\n",
    "- Hlynur Davíð Hlynsson. [Monte-Carlo Search for Magic: The Gathering](https://towardsdatascience.com/monte-carlo-search-for-magic-the-gathering-6ca60750fcc6)\n",
    "- From the world of finance: Kushal Agarwal. [The Monte Carlo Simulation: Understanding the Basics](https://www.investopedia.com/articles/investing/112514/monte-carlo-simulation-basics.asp)\n",
    "\n",
    "Not quite Monte Carlo, but based on similar ideas of random sampling:\n",
    "- The Team Band. [Blaseball](https://blaseball.com/landing)\n",
    "- Bay 12 Games. [Dwarf Fortress](http://www.bay12games.com/dwarves/)\n",
    "\n",
    "What feature(s) unite these applications? \n",
    "\n",
    "[Instructor pauses for you to think...]\n",
    "\n",
    "Monte Carlo is applied in each because the complexity or scale of the system being studied prevents us from ***knowing exactly*** what the outcomes will be.  In some of these cases, there is a probabilistic nature to how the system operates.  Monte Carlo allows us to *sample* the possible behaviors of the system and form a statistical understanding of the possible outcomes."
   ]
  },
  {
   "cell_type": "markdown",
   "metadata": {},
   "source": [
    "***\n",
    "\n",
    "## What is Monte Carlo?\n",
    "\n",
    "The Monte Carlo Casino is a famous gambling and entertainment establishment (*i.e.*, a casino) located in the country of Monaco.  It is *very* fancy -- so fancy, in fact, that James Bond has been there in **two** separate films.\n",
    "\n",
    "Ok, thanks for coming by!  Have a great life.\n",
    "\n",
    "***\n",
    "\n",
    "## What is the Monte Carlo technique?\n",
    "\n",
    "The Monte Carlo method is a paradigm (or type of approach) to solving problems.  Like most things, the [Wikipedia](https://en.wikipedia.org/wiki/Monte_Carlo_method) entry is very good if you already know what Monte Carlo is:\n",
    "\n",
    "> Monte Carlo methods... are a broad class of computational algorithms that rely on repeated random sampling to obtain numerical results. The underlying concept is to use randomness to solve problems that might be deterministic in principle. They are often used in physical and mathematical problems and are most useful when it is difficult or impossible to use other approaches. Monte Carlo methods are mainly used in three problem classes: optimization, numerical integration, and generating draws from a probability distribution.\n",
    "\n",
    "Put simply, Monte Carlo is a way of studying systems or processes that are too complex, or are inherently non-deterministic, to provide definitive predictions.  A Monte Carlo analysis builds a statistical model of the behavior of a system, performs *many* simulations/trials of the system, and then generates a statistical understanding of the outcomes of the model.  \n",
    "\n",
    "MC isn't *a* technique so much as it is a way of approaching certain types of problems.\n",
    "\n",
    "Believe it or not, we already (crudely) applied the MC technique back when we introduced the concept of and syntax for random number generation.  Many MC techniques rely on random number generation to sample the possible states or behaviors of a system.\n",
    "\n",
    "Let's look at a two examples of how we can use the MC approach to generate results.\n",
    "\n",
    "MC gets its name from the city of Monte Carlo.  How do you investigate these systems that are too complicated?  We roll the dice; *i.e.*, we generate some random numbers.  That's the connection to gambling."
   ]
  },
  {
   "cell_type": "markdown",
   "metadata": {},
   "source": [
    "***\n",
    "\n",
    "## *De rigueur* example: Calculating $\\pi$ using the MC method\n",
    "\n",
    "Recall that the number $\\pi$ is defined as the ratio of a circle's circumference to its diameter (in a flat space with Euclidean metric...).  $\\pi$ is WILD! It is a transcendental number; *i.e.*, it's not the root of a finite polynomial with rational coefficients.  It pops up in many unexpected places in the mathematical and physical sciences!  Previously in this workshop we approximated $\\pi$ using infinite series, but that required us to know the expressions for these series!\n",
    "\n",
    "Keep in mind that we don't know the value of $\\pi$... well, at least not the *exact* value of $\\pi$.\n",
    "\n",
    "Let's imagine a world in which we don't know the numerical value of $\\pi$ to any precision.  Is it 3? 4? Somewhere in between?  How would we go about *measuring* it?  We could make many, many, many circles, measure their diameters and circumferences, calculate the ratio for each, and perhaps average... But it's probably unfeasible to carefully fabricate many very precise circles.\n",
    "\n",
    "Here is another way to measure (or approximate) the value of $\\pi$.  Recall that the area of a circle with unit radius is $\\pi r^2 = \\pi (1)^2 = \\pi$.  Let's picture a circle with radius $1$ drawn inside a square with side length $2$, both centered at the origin in the $x$-$y$ plane.  We'll let the square occupy the region with $x\\in [-1, 1]$ and $y\\in[-1, 1]$.  You can scroll down to peel at the visualization below.\n",
    "\n",
    "Now imagine throwing $N$ darts at this figure in such a way that each dart lands with a random $(x, y)$ position somewhere inside the square.  Some number of these darts, $N_c$, will land inside the circle.  If the $(x, y)$ positions of the darts are truly randomly distributed inside the square, we expect that the probability of a dart landing in the circle, $p_c$, is equal to the fraction of the total area that is inside the circle:\n",
    "\n",
    "\\begin{equation} \n",
    "  p_c = \\frac{A_c}{A} = \\frac{\\pi}{2^2} = \\frac{\\pi}{4} \n",
    "\\end{equation}\n",
    "\n",
    "It is important to note that if we don't know a value for $\\pi$, **this probability is unknown to us**.  We can't calculate it from other quantities; rather, we need some way to measure it!  This is a feature common to many MC applications -- there is some important probability (or probability distribution) that we don't know, but that we want to know.\n",
    "\n",
    "We will \"measure\" this probability by **sampling**!  (Note: We are going to do this with code, but you could totally do the same approximation with real darts on a real [not-college-owned] wall.)  We will randomly generate $N$ positions in the square, observe how many of these ($N_c$) fall within the circle, and then approximate\n",
    "\n",
    "\\begin{equation}\n",
    "  p_c = \\frac{\\pi}{4} \\approx \\frac{N_c}{N} \\implies \\pi \\approx 4\\frac{N_c}{N}\n",
    "\\end{equation}\n",
    "\n",
    "It's important to note that this approximation is... APPROXIMATE!  Since $\\pi$ is transcendental, it cannot be expressed as a fraction, and thus there are NO values of $N_c$ and $N$ that will make the equality perfect.  However, the more we sample (the larger $N$ is), the better (on average) our approximate should be.\n",
    "\n",
    "Here's a little animation so that we're on the same page:"
   ]
  },
  {
   "cell_type": "code",
   "execution_count": null,
   "metadata": {},
   "outputs": [],
   "source": [
    "import numpy as np\n",
    "import matplotlib.pyplot as plt\n",
    "import matplotlib.animation as animation\n",
    "\n",
    "xs, ys = [], []\n",
    "for i in range(100):\n",
    "    xs.append(2* np.random.rand() - 1)\n",
    "    ys.append(2* np.random.rand() - 1)\n",
    "\n",
    "fig = plt.figure(figsize=(5,5))\n",
    "ax = fig.add_subplot(111, autoscale_on=False, xlim=(-1, 1), ylim=(-1, 1))\n",
    "ax.set_aspect('equal')\n",
    "circle1 = plt.Circle((0, 0), 1.0, color='orange', alpha=0.3)\n",
    "plt.gca().add_patch(circle1)\n",
    "thisx, thisy = xs, ys\n",
    "scat, = ax.plot(thisx, thisy, 'o')\n",
    "\n",
    "def animate(i):\n",
    "    thisx = xs[0:i+1]\n",
    "    thisy = ys[0:i+1]\n",
    "    scat.set_data(thisx, thisy)\n",
    "    return scat,\n",
    "\n",
    "# you can uncomment the next two lines to produce a short movie of the process! ... you may have to install ffmpeg\n",
    "# ani = animation.FuncAnimation(fig, animate, frames=99, interval=100)\n",
    "# ani.save('pi.mp4') \n",
    "\n",
    "plt.show()"
   ]
  },
  {
   "cell_type": "markdown",
   "metadata": {},
   "source": [
    "All we need now is some way to determine whether a random $(x, y)$ point is inside the circle.  Hmmmm.\n",
    "\n",
    "Let's code it up!"
   ]
  },
  {
   "cell_type": "code",
   "execution_count": null,
   "metadata": {},
   "outputs": [],
   "source": [
    "radius = 1\n",
    "n = 1e5\n",
    "n_samples = 0\n",
    "n_c = 0\n",
    "\n",
    "pi_vals = []\n",
    "n_vals = []\n",
    "\n",
    "while n_samples < n:\n",
    "    x = 2 * np.random.rand() - 1\n",
    "    y = 2 * np.random.rand() - 1\n",
    "    n_samples += 1\n",
    "    if x**2 + y**2 < radius**2: # check whether point is inside circle\n",
    "        n_c += 1\n",
    "    approx_pi = 4 * n_c / n_samples\n",
    "    if n_samples % 1000 == 0:\n",
    "        print(\"After\", n_samples, \"samples, our approximation of \\u03C0 is\", approx_pi)\n",
    "    if n_samples % 1000 == 0:\n",
    "        pi_vals.append(approx_pi)\n",
    "        n_vals.append(n_samples)\n",
    "        \n",
    "fig = plt.figure(figsize=(9,4))\n",
    "plt.plot(n_vals, pi_vals)\n",
    "plt.xlabel('number of samples')\n",
    "plt.ylabel('approximate value of $\\pi$')\n",
    "plt.show()"
   ]
  },
  {
   "cell_type": "markdown",
   "metadata": {},
   "source": [
    "Notice that as `n_samples` (the equivalent of $N$ from above) increases, the approximation generally gets closer to the actual value of $\\pi$.\n",
    "\n",
    "Please run the code block above several times and notice that you get a different final approximation value each time.  This is because the sampling process is **random**.  When I run the code several times with $10^5$ samples, the approximation is surprisingly unstable!\n",
    "\n",
    "Change the block of code above to perform $10^7$ samples.  Is your final value a better or worse approximation?  On average it should be better!\n",
    "\n",
    "#### Warm-up problem\n",
    "\n",
    "Tinker with the code above to determine how many samples are necessary to *reliably* give you an approximation accurate to 5 digits."
   ]
  },
  {
   "cell_type": "code",
   "execution_count": null,
   "metadata": {},
   "outputs": [],
   "source": [
    "## warm-up code goes here"
   ]
  },
  {
   "cell_type": "markdown",
   "metadata": {},
   "source": [
    "***\n",
    "\n",
    "To reiterate, the above example is a situation where we want to approximate the value of a quantitiy that *has a specific value*.  $\\pi$ is a well defined quantitiy, it's just difficult to calculate directly (and we can't know its *exact* value)!  Next, we'll apply the MC method to better understand a semi-complex system in which the interaction of several non-deterministic agents makes understanding outcomes very complicated.\n",
    "\n",
    "Let's do a...\n",
    "\n",
    "### Live demo!\n",
    "\n",
    "Use the Monte Carlo method to approximate the area under $\\sin(\\theta)$ between $\\theta = 0$ and $\\theta = \\pi$.  Pretend you don't know what an integral is."
   ]
  },
  {
   "cell_type": "code",
   "execution_count": null,
   "metadata": {},
   "outputs": [],
   "source": [
    "# Let's first graph the function\n",
    "thetas = np.linspace(0, np.pi, 101)\n",
    "sins = np.sin(thetas)\n",
    "\n",
    "plt.rcParams['text.usetex'] = True\n",
    "plt.plot(thetas, sins, '-m')\n",
    "plt.ylabel(r'$\\sin(\\theta)$')\n",
    "plt.xlabel(r'$\\theta$')\n",
    "plt.show()"
   ]
  },
  {
   "cell_type": "code",
   "execution_count": null,
   "metadata": {},
   "outputs": [],
   "source": [
    "# demo code goes here!"
   ]
  },
  {
   "cell_type": "markdown",
   "metadata": {},
   "source": [
    "***\n",
    "\n",
    "## Fun digression: Simulating a multi-agent, non-deterministic system\n",
    "\n",
    "In this example, we'll use random number generation to simulate the behavior of a turn-based strategy role-playing game to form a statistical understanding of the game's outcomes.\n",
    "\n",
    "### Our system\n",
    "\n",
    "Two adventurers, Alcamriel (A) Beladrinian (B) encounter a Vampiric Illithid (V) in the Underdark.  (I have now exhausted all of my D&D knowledge.  What follows will be a very simplified model of battle.)\n",
    "\n",
    "A begins battle with 260 HP.  B begins battle with 290 HP.  V begins battle with 345 HP.  In each round of battle, the charaters take successive turns attacking their foes: V attacks either A or B; A and B attack V.  Each character's attacks follow the rules below:\n",
    "\n",
    "- A does random damage between 10 and 20 with a 20\\% change of missing\n",
    "- B does random damage between 15 and 25 with a 35\\% chance of missing\n",
    "- V attacks A or B with equal probability, does random damage between 60 and 100 with a 45\\% chance of missing\n",
    "\n",
    "Each attack's damage decreases the oppononent's HP, and when a character's HP reaches zero they are... ya know, done battling.  While the individual character's actions are important, **it is the interaction between these multiple agents that determines the outcome of the battle.**  \n",
    "\n",
    "Above, we estimated the value of $\\pi$.  What do we want to estimate here?\n",
    "\n",
    "One question we could ask is: What is the probability that our heroes (A and B) will win this battle?  This is a tricky question, and answering it gets into all kinds of tricky philosophical territory about interpretations of probability and statistics...  We're not going to go there.\n",
    "\n",
    "### Simulating attacks\n",
    "\n",
    "In a normal role-playing game the randomness of attacks and damage would be determined by dice rolls.  We will use code in the cell below to simulate the characters' attacks for each round of battle."
   ]
  },
  {
   "cell_type": "code",
   "execution_count": null,
   "metadata": {},
   "outputs": [],
   "source": [
    "## character A\n",
    "strike_A = np.random.rand()\n",
    "damage_A = 0\n",
    "if strike_A > 0.20:\n",
    "    damage_A = np.random.randint(10, 21)\n",
    "    print(\"A deals\", damage_A, \"damage to V\")\n",
    "else:\n",
    "    print(\"A misses!\")\n",
    "    \n",
    "## character B\n",
    "strike_B = np.random.rand()\n",
    "damage_B = 0\n",
    "if strike_B > 0.35:\n",
    "    damage_B = np.random.randint(15, 26)\n",
    "    print(\"B deals\", damage_B, \"damage to V\")\n",
    "else:\n",
    "    print(\"B misses!\")\n",
    "    \n",
    "## character V\n",
    "target = np.random.choice(['A', 'B'])\n",
    "out_text = ''\n",
    "out_text += \"V attacks \" + target + \"...\"\n",
    "strike_V = np.random.rand()\n",
    "damage_V = 0\n",
    "if strike_V > 0.45:\n",
    "    damage_V = np.random.randint(60, 100)\n",
    "    out_text += \" dealing \" + str(damage_V) + \" damage!\"\n",
    "else:\n",
    "    out_text += \" but misses!\"\n",
    "print(out_text)"
   ]
  },
  {
   "cell_type": "markdown",
   "metadata": {},
   "source": [
    "***\n",
    "\n",
    "Playing through a few rounds, you can see that the outcomes are pretty unstable!  The code above provides the machinery for performing a set of turns, but it doesn't provide us with any **high-level understanding** of battle.  For example, if we are A or B, there are many questions that we might wish to know *before* we engage the Vampiric Illithid in battle:\n",
    "- What is the average damage done by A per turn?  B?\n",
    "- What is the probability that we can vanquish V?\n",
    "- What is the probability that A will survive battle?  B?\n",
    "- What is the probability that only A or B will survive batte?  Both?\n",
    "- How long (on average) does a battle last?  How many turns will each character take?\n",
    "\n",
    "A few of these may be easy to answer (the first one) because they don't rely on the *interaction* of the agents.  However, the other questions are difficult because of the interaction!\n",
    "\n",
    "#### Simulating a battle\n",
    "\n",
    "Let's now build a simulation of a single battle that uses the attack rules above.  We will essentially be adding code to play the role of the Dungeon Master."
   ]
  },
  {
   "cell_type": "code",
   "execution_count": null,
   "metadata": {},
   "outputs": [],
   "source": [
    "## battle code goes here."
   ]
  },
  {
   "cell_type": "markdown",
   "metadata": {},
   "source": [
    "***\n",
    "\n",
    "Great!  (I am assuming that worked.)  The outcome of the code above is the result of a **single** battle.  Because the actions of the agents in the battle is random, this will NOT suffice as a statistical understanding of the risks involved in engaging V!  \n",
    "\n",
    "In the lingo of Monte Carlo, the simulated battle above is merely a **single sampling** of the behavior of the system.  To really do a MC analysis, we need to simulate **many** individual battles and aggregate the results.\n",
    "\n",
    "#### Approximating statistical quantities by simulaing **many** battles\n",
    "\n",
    "So, as our last step, let's simulate 1000 battles and calculate the fraction of times that V is victorious.  (Afterall, if A or B survive they can always cast a revivify spell on any deceased allies, duhhhhhhhh.)"
   ]
  },
  {
   "cell_type": "code",
   "execution_count": null,
   "metadata": {},
   "outputs": [],
   "source": [
    "## MC analysis code goes here"
   ]
  },
  {
   "cell_type": "markdown",
   "metadata": {},
   "source": [
    "***\n",
    "\n",
    "## Homework problems\n",
    "\n",
    "#### 1. B-days\n",
    "Perform a Monte Carlo analysis to estimate the probablility that in a group of 20 people, at least two people share a birthday.  Assume that births are equally likely on all dates.  You can ignore leap years."
   ]
  },
  {
   "cell_type": "code",
   "execution_count": null,
   "metadata": {},
   "outputs": [],
   "source": []
  },
  {
   "cell_type": "markdown",
   "metadata": {},
   "source": [
    "#### 2. You are still a casino owner\n",
    "You love to take people's money, but you are dissatisfied by how complicated most casino games are.  You design a simple game in which a player rolls 5 six-sided dice, and gets a score by adding the three largest values (discarding the two lower values).  If the player's score is over some threshhold value $S$, they win!  Perform a Monte Carlo analysis to estimate the average score in this game.  Next determine what you should set $S$ to be such that players will win about 30\\% of attempts."
   ]
  },
  {
   "cell_type": "code",
   "execution_count": null,
   "metadata": {},
   "outputs": [],
   "source": []
  },
  {
   "cell_type": "markdown",
   "metadata": {},
   "source": [
    "#### 3. The Monty Hall Problem\n",
    "The [Monty Hall Problem](https://en.wikipedia.org/wiki/Monty_Hall_problem) is the name given to a seemingly paradoxical result from statistical analysis of a simple game.  \n",
    "> Suppose you're on a game show, and you're given the choice of three doors: Behind one door is a car; behind the others, goats. You pick a door, say No. 1, and the host, who knows what's behind the doors, opens another door, say No. 3, which has a goat. He then says to you, \"Do you want to pick door No. 2?\" Is it to your advantage to switch your choice?\n",
    "\n",
    "(Assume that you'd prefer to win a car rather than a goat.)\n",
    "\n",
    "Perform a MC analysis of the game in order to show that a player who switches gets the car more often than the player that doesn't switch.  Said another way, use a MC analysis to show that switching doors is a better strategy for winning a car (but worse for winning a goat)."
   ]
  },
  {
   "cell_type": "code",
   "execution_count": null,
   "metadata": {},
   "outputs": [],
   "source": []
  }
 ],
 "metadata": {
  "kernelspec": {
   "display_name": "Python 3 (ipykernel)",
   "language": "python",
   "name": "python3"
  },
  "language_info": {
   "codemirror_mode": {
    "name": "ipython",
    "version": 3
   },
   "file_extension": ".py",
   "mimetype": "text/x-python",
   "name": "python",
   "nbconvert_exporter": "python",
   "pygments_lexer": "ipython3",
   "version": "3.10.10"
  }
 },
 "nbformat": 4,
 "nbformat_minor": 4
}
