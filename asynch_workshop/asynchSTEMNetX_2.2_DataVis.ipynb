{
 "cells": [
  {
   "cell_type": "markdown",
   "metadata": {},
   "source": [
    "# Lesson 2.2: Data visualization with `matplotlib`"
   ]
  },
  {
   "cell_type": "markdown",
   "metadata": {},
   "source": [
    "In this lesson we'll look at a skill that will touch on all of the foundational skills we've covered so far! \n",
    "\n",
    "**Data Visualization** (*i.e.*, making graphs [and other things like graphs]) is one of the ways in which computing has truly changed science and society by giving humans access to new ways of understanding complex systems or relationships!  We will cover the basics of data visualization with `python`, but there is SO MUCH MORE!"
   ]
  },
  {
   "cell_type": "markdown",
   "metadata": {},
   "source": [
    "## Motivation\n",
    "\n",
    "For our motivation for this lesson, we'll look at some beautiful visualizations of quantitative information:\n",
    "- Charles Joseph Minard, [*Figurative Chart of [Napoleon's retreat from Moscow]*](https://www.edwardtufte.com/tufte/minard) (1869).  [(high resolution from WikiPedia)](https://upload.wikimedia.org/wikipedia/commons/2/29/Minard.png)\n",
    "\"It may well be the best statistical graphic ever drawn.\" -- Edward Tufte\n",
    "- Florence Nitingale, [*Diagram of the Causes of Mortality in the Army in the East*](https://99percentinvisible.org/episode/florence-nightingale-data-viz-pioneer/) (1858).  \"It may well be the most important statistical graphic ever drawn.\" -- Mike McCracken\n",
    "- Matt Daniels, [*Largest Vocabulary in Hip Hop*](https://pudding.cool/2017/02/vocabulary/) (2017).  [Warning: some vulgarities]  Poor DMX!\n",
    "- Hannah Anderson and Matt Daniels, [*Film Dialogue by Gender*](https://pudding.cool/2017/03/film-dialogue/) (2016).\n",
    "- New York Times, [*Coronavirus in the US*](https://www.nytimes.com/interactive/2023/us/covid-cases.html) (present)\n",
    "\n",
    "What do these visualizations have in common?\n",
    "\n",
    "***"
   ]
  },
  {
   "cell_type": "markdown",
   "metadata": {},
   "source": [
    "## Data Visualization as an idea\n",
    "\n",
    "A \"data visualization\" is a visual representation of quantitative information in some form that is intuitively digestible to human brains.  \"Good\" visualizations allow the user to derive understanding and meaning from quantitative information that would be otherwise unintelligible, hidden, or high-level.  \"Bad\" visualizations either do not allow for understanding (*i.e.*, they are confusing or unintuitive) or lead the user to a *wrong/incorrect* understanding.  Note that some (many?) visualizations are **intentionally** misleading -- a bad actor who wants to incorrect conclusions might consider a bad visualization (as defined above) to be good!\n",
    "\n",
    "Making a good/effective visualization involves quantitive literacy, technical skill (programming in this case), creativity, artistry/style, and psychology.  That said, there seems to be a core set of *types* of data visualizations, things like time-series data, histograms, and bi-variate scatter plots.  In many cases, the understanding that we hope to gain from data can be conveyed via one of these standard types.  \n",
    "\n",
    "THAT said, we now live in an era of complex, multidimensional datasets -- having more flexible visualization tools allows researchers to develop new ways to seek meaning in data, rather than having tools dictate what meaning we can seek.\n",
    "\n",
    "### Data --> Analysis --> Evidence\n",
    "\n",
    "The programming skills that we've learned so far form the backbone of data analysis.  With a few simple visualization tools, we will be able to turn our analyses into compelling evidence.  "
   ]
  },
  {
   "cell_type": "markdown",
   "metadata": {},
   "source": [
    "### `matplotlib`\n",
    "\n",
    "I've mentioned before that `python` is an open-source project.\n",
    "This means that many wonderful and smart people (maybe you soon!) write fabulous libraries for `python` and then make this work available to the broader `python` community as modules/libraries.  Because `python` is used by so many wonderful folks in the natural and quantitative sciences, many of these libraries are designed to do *exactly* the types of things that we want to do in this class.\n",
    "\n",
    "One such library, `matplotlib`, is a comprehensive suite for data visualization.  In this notebook, we'll use `matplotlib` to produce a few of the basic visualization types.\n",
    "\n",
    "The [matplotlib.org](https://matplotlib.org) project homepage is a great resource, as is the [Python Graph Gallery](https://www.python-graph-gallery.com/).  The latter has some nice, short descriptions of different types of plots.\n",
    "\n",
    "***"
   ]
  },
  {
   "cell_type": "markdown",
   "metadata": {},
   "source": [
    "## Histograms\n",
    "\n",
    "Suppose we have a dataset that is a collection of values of a *single type* (imagine a single column in a spreadsheet).\n",
    "Examples would be like US household incomes from a census, or students' grades on an exam in a given class.  You might think about calculating the mean, median, and mode values of the data, but these individual values probably are not a comprehensive characterization of the data.  If I tell you that the average score on an exam was 75\\%, did everyone get a 75\\% or did half the class ace the exam and the other half fail???\n",
    "\n",
    "We could certainly open the file that contains this data and just scroll through it, hoping to gain some insight about how the values are distributed, but for large datasets it's unlikely that this will yield any (correct) understanding.\n",
    "\n",
    "A (1-d) **histogram** is a visual representation of 1-dimensional data that allows the viewer to quickly understand how the data is *distributed*.  To make a histogram, we split the full range of data values into smaller ranges called *bins* and then visualize how many values from the dataset fall into (or occupy) each bin.  You may have worked with bar graphs, which are related to histograms.  Note that this approach takes 1-d data and turns it into a 2-d representation (bin edges and occupancies).\n",
    "\n",
    "A well-made histogram allows the user to quickly get an idea of how data is distributed, leading to more comprehensive understanding of the data than simply calculating (*e.g.*) mean and standard deviation.\n",
    "\n",
    "Histograms are very useful, and `matplotlib` has quite a bit of built-in histogram capability that will allow you to make professional-grade plots easily!  Let's take it for a test drive!  In addition to `numpy` we'll need to import `matplotlib.pyplot`, the core plotting module.  \n",
    "\n",
    "Let's work with the `dice_data.txt` data file referenced in the previous lesson.  Here's the idea: To prevent cheating, your casino monitors the outcomes of dice rolls at one of its craps tables.  Outcomes for 10000 rolls are given in the file `dice_data.txt`.  Let's start with a simple histogram for total dice value.  (Don't forget to download the file!)"
   ]
  },
  {
   "cell_type": "code",
   "execution_count": null,
   "metadata": {},
   "outputs": [],
   "source": [
    "import numpy as np\n",
    "import matplotlib.pyplot as plt\n",
    "\n",
    "infile = open('data_files/dice_data.csv', 'r')\n",
    "total_rolls = []\n",
    "\n",
    "line = infile.readline()\n",
    "line = infile.readline()\n",
    "while len(line) > 1:\n",
    "    line_arr = line.split(',')\n",
    "    total = int(line_arr[1]) + int(line_arr[2]) \n",
    "    total_rolls.append(total)\n",
    "    line = infile.readline()\n",
    "\n",
    "infile.close()\n",
    "\n",
    "total_arr = np.array(total_rolls)\n",
    "\n",
    "plt.hist(total_arr, range=(0,13), bins=13, histtype='step')\n",
    "plt.xlabel('total of 2 dice')\n",
    "plt.ylabel('number of times rolled')\n",
    "plt.title('dice roll outcomes')\n",
    "plt.show()"
   ]
  },
  {
   "cell_type": "markdown",
   "metadata": {
    "tags": []
   },
   "source": [
    "I'll walk you through each piece of the code above, but there are two things to mention explicitly.\n",
    "\n",
    "- First, the `total_arr = np.array(total_rolls)` converts the `total_rolls` list into a new type of object called a \"numpy array\".  The numpy array is an ordered list that has a lot of other functionality built into it.  We don't need to worry about that functionality now, but you should know that `pyplot` works much more smoothly on numpy arrays than it does on lists.  In some cases you can get away with a `list`, but in others you cannot.\n",
    "\n",
    "- Second, when we call `plt.hist()` we supply the numpy array that contains the data we want to plot *and also* number of formatting arguments.  There is GREAT POWER in these formatting arguments; you should check out the `matplotlib` documentation for much, much more info.  In the block above, we set the display range, number of bins, and type of histogram.  Please try changing these values now.\n",
    "\n",
    "Let's talk about the actual distribution!  It's not very surprising.  There are more combinations that can add up to 7 than there are that can add to 2 or 12, so we see a greater number of 7 rolls.  Nothing shocking here.\n",
    "\n",
    "#### Warm-up problem\n",
    "\n",
    "Now change the code above to plot the individual rolls of die 1 and then die 2.  See if you can plot these two histograms on the same canvas/axes.  Is something funky going on?"
   ]
  },
  {
   "cell_type": "code",
   "execution_count": null,
   "metadata": {},
   "outputs": [],
   "source": [
    "# warm-up code goes here..."
   ]
  },
  {
   "cell_type": "markdown",
   "metadata": {},
   "source": [
    "***\n",
    "\n",
    "A **bar graph** is a type of histogram in which the horizontal axis is not a contuous range, but rather a set of categories.  We can create such a graph very easily with `pyplot` using a dictionary (remember those???):"
   ]
  },
  {
   "cell_type": "code",
   "execution_count": null,
   "metadata": {},
   "outputs": [],
   "source": [
    "food_dict = {'pad thai': 8, 'malai kofta': 14, 'jjajangmeon': 9, \n",
    "             'jollof rice': 11, 'chiles rellenos': 5}\n",
    "\n",
    "key_arr = list(food_dict.keys())\n",
    "val_arr = list(food_dict.values())\n",
    "\n",
    "plt.bar(key_arr, val_arr)\n",
    "plt.ylabel('orders')\n",
    "plt.xticks(rotation=30)\n",
    "plt.show()"
   ]
  },
  {
   "cell_type": "markdown",
   "metadata": {},
   "source": [
    "***\n",
    "\n",
    "Histograms are really magical -- they can make a huge amount of data easily digestible .  That said, histograms aren't the only way to visualize 1-d data!\n",
    "\n",
    "You should note that **2-d histograms** are also a thing!  I'll make one for you below, free of charge :^)"
   ]
  },
  {
   "cell_type": "code",
   "execution_count": null,
   "metadata": {},
   "outputs": [],
   "source": [
    "fil = open(\"data_files/lizards.csv\",\"r\")\n",
    "\n",
    "n_lizards = 0\n",
    "h, w = [], []\n",
    "line = fil.readline()\n",
    "while len(line) > 1:\n",
    "    n_lizards = n_lizards + 1\n",
    "    line_arr = line.split(',')\n",
    "    h.append(float(line_arr[0]))\n",
    "    w.append(float(line_arr[1]))\n",
    "    line = fil.readline()\n",
    "\n",
    "h = np.array(h)\n",
    "w = np.array(w)\n",
    "\n",
    "fig = plt.figure(figsize=(9,4))\n",
    "plt.hist2d(h, w, bins=(80,80), range=[[4,16], [0, 2000]], cmap='BuPu')\n",
    "# plt.scatter(h, w)\n",
    "plt.ylabel('lizard weight (g)')\n",
    "plt.xlabel('lizard length (cm)')\n",
    "plt.title('features of ' + str(n_lizards) + ' lizards found in Swanson 100.b')\n",
    "cbar = plt.colorbar()\n",
    "plt.show()"
   ]
  },
  {
   "cell_type": "markdown",
   "metadata": {},
   "source": [
    "Holy cats, that looks good!  It's important to point out that all of the business of making this histogram happens in the last seven (!) lines of code of the cell above.  WOW!"
   ]
  },
  {
   "cell_type": "markdown",
   "metadata": {},
   "source": [
    "* * *\n",
    "\n",
    "## Graphing bi-variate data (*i.e.*, 2-d graphs)\n",
    "\n",
    "Bi-variate visualizations, that is visualizations showing the relationship between two variables, seem to be a sweet spot for human comprehension.  This could be for many reasons!  One possible explanation is that we live in 3 spatial dimensions, which makes projections of data onto 2-d surfaces (like paper or screens) fairly easy to do.  Another possible explanation is that until fairly recently, it has been difficult to make graphs of more than two variables and this means we just have more experience digesting 2-d visualizations.  Regardless of *why* we like 2-d visualizations, `matplotlib` makes it quite easy to produce them.\n",
    "\n",
    "Let's take a look at a dataset of deaths in major US cities.  [I know this is morbid, but this is a great example of learning something unexpected from a dataset.]  The block of code below reads in data from a file containing weekly mortality data from major US cities during the period 1962-2016.  It's a lot of data!  Check out the header line in the file for more info.  The code below allows us to select a particular city's data for graphing."
   ]
  },
  {
   "cell_type": "code",
   "execution_count": null,
   "metadata": {},
   "outputs": [],
   "source": [
    "fil = open(\"data_files/Deaths_in_122_U.S._cities_-_1962-2016.csv\",\"r\")\n",
    "\n",
    "w = []\n",
    "ds = []\n",
    "\n",
    "city = \"Pittsburgh\"\n",
    "\n",
    "lin = fil.readline()\n",
    "lin = fil.readline()\n",
    "\n",
    "datum_index = 7\n",
    "\n",
    "i = 0\n",
    "while len(lin) > 2:\n",
    "    arr = lin.split(\",\")\n",
    "    if arr[5] == city and arr[datum_index].isdigit():\n",
    "        w.append((int(arr[1]) + (int(arr[0]) - 1962)*52)/52.0 + 1962)\n",
    "        ds.append(float(arr[datum_index]))\n",
    "    lin = fil.readline()\n",
    "    i += 1\n",
    "\n",
    "w = np.array(w)\n",
    "ds = np.array(ds)\n",
    "\n",
    "fig = plt.figure(figsize=(9,4))\n",
    "plt.plot(w, ds,'.')\n",
    "plt.ylim(ymin=0)\n",
    "plt.ylabel(\"deaths per week in \" + city)\n",
    "plt.xlabel(\"year\")\n",
    "plt.show()\n",
    "\n",
    "fil.close()"
   ]
  },
  {
   "cell_type": "markdown",
   "metadata": {},
   "source": [
    "Very interesting!  This is an example of a **time-series** visualization or time-series data -- we're seeing the variation in a quantity versus time.  Change the `city` string in the code above to look at data from other US cities and see if you can formulate some demographic hypotheses!\n",
    "\n",
    "The above should convince you how important visualization is/can be in the process of doing modern science.  To figure out the programming structures that allow us to do this, let's turn back to the parabolic trajectory data from a previous lesson.  The block of code below is very similar to a bit of the previous notebook."
   ]
  },
  {
   "cell_type": "code",
   "execution_count": null,
   "metadata": {},
   "outputs": [],
   "source": [
    "import numpy as np\n",
    "\n",
    "in_file = open(\"data_files/parab_t_and_y.csv\", \"r\")\n",
    "t_list = []\n",
    "y_list = []\n",
    "line = in_file.readline()       \n",
    "while len(line) > 1:            \n",
    "    line_list = line.split(\",\") \n",
    "    t_list.append(float(line_list[0]))       \n",
    "    y_list.append(float(line_list[1]))\n",
    "    line = in_file.readline()\n",
    "    \n",
    "# now comes the graphing code!\n",
    "import matplotlib.pyplot as plt\n",
    "t_arr = np.array(t_list)         \n",
    "y_arr = np.array(y_list)         \n",
    "\n",
    "fig = plt.figure(figsize=(8,4))\n",
    "plt.plot(t_arr, y_arr, 'o')\n",
    "plt.xlabel('time (s)')\n",
    "plt.ylabel('y position (m)')\n",
    "plt.show()"
   ]
  },
  {
   "cell_type": "markdown",
   "metadata": {},
   "source": [
    "\n",
    "So, that's how you make a simple plot!  The independent variable quantities are represented by a numpy array (`t_arr`) and the dependent variable quantities are represented by another numpy array (`y_arr`).  The default formatting of the graph is pretty good looking.\n",
    "\n",
    "I'd like to point out that the third argument of the `plt.plot()` command is the marker properties.  `'o'` is shorthand telling `pyplot` that the points should be represented by circles.  Try changing the formatting string to the following values: `'pb'`, `'sr'`, `'-y'`.  \n",
    "\n",
    "The `fig = plt.figure(figsize=(8,4))` line in the above code is not strictly necessary for simple plots.  What this does is create a figure object that we will be able to format.  If a line like this is not included before you use `plt.plot...`, `matplotlib` will essentially create a figure with default properties.  I'll show you some of the features of `figure` below.\n",
    "\n",
    "***\n",
    "\n",
    "I know what you're thinking: \"Wow, this is great and life affirming, but what if I just want to graph a function... this seems like overkill.\"  Let me show you a basic way to graph a function(s), and then you can decide for yourself."
   ]
  },
  {
   "cell_type": "code",
   "execution_count": null,
   "metadata": {},
   "outputs": [],
   "source": [
    "def function1(x):\n",
    "    return 0.5 * (np.tanh(x) + 1)\n",
    "\n",
    "def function2(x):\n",
    "    return 1 - 1 / (1 + np.exp(x))\n",
    "\n",
    "xlist, f1list, f2list = [], [], []\n",
    "\n",
    "xmin = -3.0\n",
    "xmax = 3.0\n",
    "dx = 0.1\n",
    "x_val = xmin\n",
    "\n",
    "while x_val <= xmax + 0.0001:\n",
    "    xlist.append(x_val)\n",
    "    f1list.append(function1(x_val))\n",
    "    f2list.append(function2(x_val))\n",
    "    x_val += dx\n",
    "\n",
    "xarray = np.array(xlist)\n",
    "f1array = np.array(f1list)\n",
    "f2array = np.array(f2list)\n",
    "\n",
    "fig = plt.figure(figsize=(9,4))\n",
    "plt.plot(xarray, f1array, '-', label='modified tanh')\n",
    "plt.plot(xarray, f2array, '-', label='sigmoid')\n",
    "plt.xlim(xmin, xmax)\n",
    "plt.ylim(-0.1,1.1)\n",
    "plt.ylabel(\"y\")\n",
    "plt.xlabel(\"x\")\n",
    "plt.legend(loc='center right')\n",
    "plt.show()"
   ]
  },
  {
   "cell_type": "markdown",
   "metadata": {},
   "source": [
    "Yowza, that looks professional.  So, what's going on here is that we generate lists of x and y values that `pyplot` will then graph.  We can't just tell `pyplot` what the function is and then ask it to make a graph.  This might sound like an extra step, but it gives us a lot of control that we might want to exercise later.\n",
    "\n",
    "Notice that because these are continuous functions (even though our arrays of values are not continuous) we display them with the points connected.\n",
    "\n",
    "Also notice that `pyplot` automagically handles a lot of the formatting here!  It puts the second curve on the same set of axes and changes its default color so that we can tell the two functions apart.  The legend is super simple to add, too!\n",
    "\n",
    "## Subplots\n",
    "\n",
    "What if we want the two graphs on separate axes right next to one another?  We can create subplots of the figure to put the graphs where we want them.  `subplot` accesses individual elements of a grid of plots.  Let's create a grid with 1 row and 2 columns:"
   ]
  },
  {
   "cell_type": "code",
   "execution_count": null,
   "metadata": {},
   "outputs": [],
   "source": [
    "fig = plt.figure(figsize=(9,3))\n",
    "ax1 = plt.subplot(121)\n",
    "ax1.plot(xarray, f1array, '-b', label='modified tanh')\n",
    "ax1.set_xlim(xmin, xmax)\n",
    "ax1.set_xlabel('x')\n",
    "ax1.legend()\n",
    "\n",
    "ax2 = plt.subplot(122, sharey=ax1, sharex=ax1)\n",
    "ax2.plot(xarray, f2array, '--r', label='sigmoid')\n",
    "ax2.set_xlabel('x')\n",
    "ax2.legend()\n",
    "\n",
    "plt.tight_layout()\n",
    "plt.show()"
   ]
  },
  {
   "cell_type": "markdown",
   "metadata": {},
   "source": [
    "* * *\n",
    "\n",
    "## Error bars\n",
    "\n",
    "This workshop is about applying computation to scientific research.\n",
    "Scientific research is based on predictions and measurements.\n",
    "Predictions and measurements have associated with them precision/uncertainty (usually loosely called \"error\").\n",
    "We need to be able to visualize this uncertainty.\n",
    "In a bivariate visualization of discrete data points this is typically done with error bars.  Uncertainty visualization will be *essential* for what we'll do in the next lesson.\n",
    "\n",
    "Where do these uncertainties come from?  Keep in mind that any measuring device has a limited precision.  When we display a data point indicating, for example, a length measurement done with a ruler with precision $\\pm$1 cm, we would include an error bar that extends 1 cm on either side of the data point.  This error bar indicates to the viewer that we're confident that the *actual* value of the measured quantity is within the range indicated by the error bar.  Most often it is these measurement uncertainties that are the sources of uncertainty in an analysis, though there are other ways that uncertainty can enter an analysis.\n",
    "\n",
    "If you've ever used Excel (or similar) to make a graph with error bars, you know that it's a bit clunky.  Not so in `pyplot`!  The block of code below reads in a parabola data file that includes $t$ and $y$ uncertainties.  If these are contained in a file or can be generated as arrays, then visualizing them is very easy to do."
   ]
  },
  {
   "cell_type": "code",
   "execution_count": null,
   "metadata": {},
   "outputs": [],
   "source": [
    "in_file = open(\"data_files/parab_t_and_y_error.csv\", \"r\")\n",
    "t_list, et_list, y_list, ey_list = [], [], [], [] \n",
    "\n",
    "line = in_file.readline() # read off header line\n",
    "line = in_file.readline()\n",
    "\n",
    "while len(line) > 1:\n",
    "    line_list = line.split(\",\")\n",
    "\n",
    "    t_list.append(float(line_list[0]))      \n",
    "    et_list.append(float(line_list[1]))\n",
    "\n",
    "    y_list.append(float(line_list[2]))\n",
    "    ey_list.append(float(line_list[3]))\n",
    "\n",
    "    line = in_file.readline()\n",
    "    \n",
    "t_arr = np.array(t_list)\n",
    "y_arr = np.array(y_list)\n",
    "et_arr = np.array(et_list)\n",
    "ey_arr = np.array(ey_list)\n",
    "\n",
    "fig = plt.figure(figsize=(9, 6))\n",
    "plt.errorbar(t_arr, y_arr, xerr=et_arr, yerr=ey_arr, fmt='_')\n",
    "plt.xlabel('time (s)')\n",
    "plt.ylabel('y position (m)')\n",
    "plt.show()"
   ]
  },
  {
   "cell_type": "markdown",
   "metadata": {},
   "source": [
    "Take a look at the `plt.errorbar(...)` line -- we simply supply the $t$, $y$, $\\sigma_t$, and $\\sigma_y$ values as individual numpy arrays.\n",
    "\n",
    "The crosses in the plot above are NOT just markers!  There is information contained in the lengths of the error bars.  We'll talk about how we use that information in the next lesson.\n",
    "\n",
    "What can you learn from these position *vs* time measurements by looking at the graph?"
   ]
  },
  {
   "cell_type": "markdown",
   "metadata": {},
   "source": [
    "* * *\n",
    "\n",
    "## Higher dimensions\n",
    "\n",
    "We've mostly been living in 2-d in this notebook.  Histograms allowed us to visualize 1-d data in 2-d. Bi-variate graphs visualize 2-d data in 2-d.  What if our data has more features/dimensions?  What do we do?  Holograms?  \n",
    "\n",
    "One thing that we could do is project a 3-d visualization into 2 dimensions.  Picture a trajectory of a particle in 3 dimensions projected onto a 2-dimensional screen... you know, like a video game!  You can check out `plot3d` and `scatter3d` if you're interested in projections like this.\n",
    "\n",
    "We can actually cram a lot more information into a 2-d graph than afforded by the horizontal and vertical axes!  Think about how many different types of information were shown in the Minard graphic at the top of this notebook.  We can control other features of a graph such as marker shape, size, and color to convey information.  Using `pyplot` you have tons of control over these features.  Here's a simple example:"
   ]
  },
  {
   "cell_type": "code",
   "execution_count": null,
   "metadata": {},
   "outputs": [],
   "source": [
    "x_list, y_list, c_list, r_list = [], [], [], []\n",
    "for i in range(100):\n",
    "    x_list.append(np.random.rand() * 10)\n",
    "    y_list.append(x_list[-1] + np.random.randn()* 2)\n",
    "    c_list.append(x_list[-1]/10 + np.random.rand() * 0.1) #np.random.rand(N)\n",
    "    r_list.append(50.0 + 40 * np.random.rand())\n",
    "\n",
    "fig = plt.figure(figsize=(9,4))\n",
    "plt.scatter(x_list, y_list, s=r_list, c=c_list, alpha=0.5)\n",
    "plt.show()"
   ]
  },
  {
   "cell_type": "markdown",
   "metadata": {},
   "source": [
    "The data here is meaningless, but one of your future projects will be to make a scatter plot that displays 3 or more dimensions of information. "
   ]
  },
  {
   "cell_type": "markdown",
   "metadata": {},
   "source": [
    "* * *\n",
    "\n",
    "## Homework time!\n",
    "\n",
    "\n",
    "#### 1. NBA data again\n",
    "Return to he NBA dataset from the previous lesson.  Make a histogram of the final point differentials (team2 - team1) for all games from the dataset.  Your histogram should be divided into 1-point bins.  What is the most common final point differential (*i.e.*, the *mode*)?\n"
   ]
  },
  {
   "cell_type": "code",
   "execution_count": null,
   "metadata": {},
   "outputs": [],
   "source": []
  },
  {
   "cell_type": "markdown",
   "metadata": {},
   "source": [
    "#### 2. Mammals\n",
    "The file `mammal_body_brain_masses_dataset.csv` contains average body and brain masses for different species of mammal (duh).  Add a column the file that contains whether the animals are quadrupedal or bipedal (you can do this in (gasp) Excel). Make a scatter plot of brain mass *vs* body mass with marker colors that indicate whether the animals are bipedal or quadrupedal.\n"
   ]
  },
  {
   "cell_type": "code",
   "execution_count": null,
   "metadata": {},
   "outputs": [],
   "source": []
  },
  {
   "cell_type": "markdown",
   "metadata": {},
   "source": [
    "#### 3. Corrupt croupier\n",
    "Return to the `dice_data.txt` file from an earlier lesson(s).  Make histograms of the individual die rolls of the two croupiers (4 histograms in total).  Is something funky going on?"
   ]
  },
  {
   "cell_type": "code",
   "execution_count": null,
   "metadata": {},
   "outputs": [],
   "source": []
  },
  {
   "cell_type": "markdown",
   "metadata": {},
   "source": [
    "#### 4. NBA again, again\n",
    "Return to the NBA data.  For each season, compute the average final point differential (team2 - team1) and the standard deviation of point differential.  Then, make a graph of average point differential *vs* year with vertical error bars that indicate the standard deviation."
   ]
  },
  {
   "cell_type": "code",
   "execution_count": null,
   "metadata": {},
   "outputs": [],
   "source": []
  }
 ],
 "metadata": {
  "kernelspec": {
   "display_name": "Python 3 (ipykernel)",
   "language": "python",
   "name": "python3"
  },
  "language_info": {
   "codemirror_mode": {
    "name": "ipython",
    "version": 3
   },
   "file_extension": ".py",
   "mimetype": "text/x-python",
   "name": "python",
   "nbconvert_exporter": "python",
   "pygments_lexer": "ipython3",
   "version": "3.10.10"
  }
 },
 "nbformat": 4,
 "nbformat_minor": 4
}
