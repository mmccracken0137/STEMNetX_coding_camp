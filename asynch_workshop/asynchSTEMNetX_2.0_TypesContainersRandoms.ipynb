{
 "cells": [
  {
   "cell_type": "markdown",
   "metadata": {},
   "source": [
    "# Lesson 2.0: Types, containers, random numbers"
   ]
  },
  {
   "cell_type": "markdown",
   "metadata": {},
   "source": [
    "## Recap\n",
    "\n",
    "Let's just take a moment to remind ourselves how far we've come.  Here are some of the many things that we know how to do already:\n",
    "- basic mathematical operations\n",
    "- function definition\n",
    "- iteration and recursion with loop control structures `for` and `while`\n",
    "- keeping track of variables outside of loops (i.e., counting and summing)\n",
    "- function definition and using function *inside* of loops\n",
    "- conditionals with `if`, `else`, and `elif`\n",
    "\n",
    "## Motivation\n",
    "\n",
    "I mentioned at the beginning of the workshop that one of the uses of computation in the physical sciences was for simulating experiments or apparatus that are prohibitively complicated.  It's important to note that studying a simulation is **not** the same as studying the \"real world\" -- the behavior of the simulation will depend on our current understanding of the laws that govern the real world, and these may not be correct!  Still, simulations are very useful for hypothesis testing.  To that end, check this out:\n",
    "- Cue evolution simulation code.  What hypotheses can we test? (Note: If you're not actually in a classroom with me or watching the video right now, you won't be seeing this!  The demo is similar-ish to David Randall Miller's work [here](https://www.youtube.com/watch?v=N3tRFayqVtk).  Very cool!"
   ]
  },
  {
   "cell_type": "markdown",
   "metadata": {},
   "source": [
    "### Types and casting\n",
    "\n",
    "When we use a computer to do a calculation, input and output quantities need to be stored/accessed by the computer.  **How** the computer does this depends on what **type** of quantity we're storing.  \"Type\" is an important concept in computer science.\n",
    "\n",
    "We have so far encountered a few different types of quantities that `python` knows about:\n",
    "\n",
    "#### `int` --> Integers \n",
    "\n",
    "Integers can be signed (positive or negative (or 0))"
   ]
  },
  {
   "cell_type": "code",
   "execution_count": 2,
   "metadata": {},
   "outputs": [
    {
     "name": "stdout",
     "output_type": "stream",
     "text": [
      "4 -2 180753806735751753 -200000000000000000000000000000000000000000000000000000\n"
     ]
    },
    {
     "data": {
      "text/plain": [
       "int"
      ]
     },
     "execution_count": 2,
     "metadata": {},
     "output_type": "execute_result"
    }
   ],
   "source": [
    "a = 4\n",
    "b = -2\n",
    "c = 180753806735751753\n",
    "d = -200000000000000000000000000000000000000000000000000000\n",
    "print(a, b, c, d)\n",
    "type(b)"
   ]
  },
  {
   "cell_type": "markdown",
   "metadata": {},
   "source": [
    "Use the cell below to see if you can figure out the maximum size for an integer.  (*I.e.*, what's the biggest `int` that `python` can handle?  Spoiler alert: Don't spend too much time on this!)"
   ]
  },
  {
   "cell_type": "code",
   "execution_count": null,
   "metadata": {},
   "outputs": [],
   "source": []
  },
  {
   "cell_type": "markdown",
   "metadata": {},
   "source": [
    "#### `float` --> Floats \n",
    "\n",
    "Floats are numbers with a finite number of digits to the right of the decimal.  They can be expressed in regular decimal form or in scientific notation.  You're almost certainly running this notebook on a 64-bit computer, which means your floats can have up to about 16 digits of precision.  (Variable `f` below gets truncated at 16 digits on my computer.)"
   ]
  },
  {
   "cell_type": "code",
   "execution_count": 3,
   "metadata": {},
   "outputs": [
    {
     "name": "stdout",
     "output_type": "stream",
     "text": [
      "2.71828 -3.587353582636827e-05 -20000000000.0\n"
     ]
    },
    {
     "data": {
      "text/plain": [
       "float"
      ]
     },
     "execution_count": 3,
     "metadata": {},
     "output_type": "execute_result"
    }
   ],
   "source": [
    "e = 2.71828\n",
    "f = -358735.3582636827067923067236e-10\n",
    "g = -2.0e10\n",
    "print(e, f, g)\n",
    "type(g)"
   ]
  },
  {
   "cell_type": "markdown",
   "metadata": {},
   "source": [
    "#### `bool` --> Booleans \n",
    "\n",
    "Booleans are the outcomes of logical operations.  There are only two boolean values: `True` and `False`.  When we implement comparison operators, the outcomes are booleans."
   ]
  },
  {
   "cell_type": "code",
   "execution_count": 5,
   "metadata": {},
   "outputs": [
    {
     "name": "stdout",
     "output_type": "stream",
     "text": [
      "True False False\n"
     ]
    },
    {
     "data": {
      "text/plain": [
       "bool"
      ]
     },
     "execution_count": 5,
     "metadata": {},
     "output_type": "execute_result"
    }
   ],
   "source": [
    "h = 2 > 1\n",
    "i = 2 < 1\n",
    "j = (1 == 1.0000000001)\n",
    "print(h, i, j)\n",
    "type(j)"
   ]
  },
  {
   "cell_type": "markdown",
   "metadata": {},
   "source": [
    "#### `string` --> Strings\n",
    "\n",
    "Strings are sequences of alphanumeric and punctuation characters.  We've used strings a little bit in our `print` statements.  Strings are initialized with either double quotes (`\"   \"`) or single quotes/apostrophes (`'   '`)."
   ]
  },
  {
   "cell_type": "code",
   "execution_count": 6,
   "metadata": {},
   "outputs": [
    {
     "name": "stdout",
     "output_type": "stream",
     "text": [
      "Mikey likes bikes\n"
     ]
    },
    {
     "data": {
      "text/plain": [
       "str"
      ]
     },
     "execution_count": 6,
     "metadata": {},
     "output_type": "execute_result"
    }
   ],
   "source": [
    "k = \"Mikey\"\n",
    "m = 'likes'\n",
    "n = 'bikes'\n",
    "print(k, m, n)\n",
    "type(n)"
   ]
  },
  {
   "cell_type": "markdown",
   "metadata": {},
   "source": [
    "***\n",
    "\n",
    "There are several other data types built into `python`, some of which we'll encounter later.  \n",
    "\n",
    "You may wonder why this is necessary.  (Do you?)  There are two reasons why type is important:\n",
    "\n",
    "**First**, in order to make efficient use of memory, the computer stores/accesses different types of data differently.  For example, there is a maximum size `float` that `python` can handle:"
   ]
  },
  {
   "cell_type": "code",
   "execution_count": null,
   "metadata": {},
   "outputs": [],
   "source": [
    "a = 2.0e309\n",
    "print(a)"
   ]
  },
  {
   "cell_type": "markdown",
   "metadata": {},
   "source": [
    "Haha, oops.  Efficient memory usage is less of an issue these days, as computer memory and speed are essentially infinitely larger than they were in the early days of computing, but it is very much still an issue at the extremes (size, speed) of computing.  \n",
    "\n",
    "**Second**, the types of operations that can be done with a piece of data depend on what type of data it is!  Most programming languages have built-in rules that prevent you from doing something nonsensical.  For example, the following operations are allowed:"
   ]
  },
  {
   "cell_type": "code",
   "execution_count": 8,
   "metadata": {},
   "outputs": [
    {
     "name": "stdout",
     "output_type": "stream",
     "text": [
      "4 2.71828 6.71828\n",
      "-2 -3.587353582636827e-05 55751.40431320216\n",
      "Mikey bikes Mikey bikes\n",
      "True False False\n"
     ]
    }
   ],
   "source": [
    "print(a, e, a + e)\n",
    "print(b, f, b / f)\n",
    "print(k, n, k + \" \" + n)\n",
    "print(h, j, h and j)"
   ]
  },
  {
   "cell_type": "markdown",
   "metadata": {},
   "source": [
    "The following is not.  Uncomment it, and give it a whirl!  Can you decypher the error message?"
   ]
  },
  {
   "cell_type": "code",
   "execution_count": 9,
   "metadata": {},
   "outputs": [
    {
     "ename": "TypeError",
     "evalue": "unsupported operand type(s) for +: 'int' and 'str'",
     "output_type": "error",
     "traceback": [
      "\u001b[0;31m---------------------------------------------------------------------------\u001b[0m",
      "\u001b[0;31mTypeError\u001b[0m                                 Traceback (most recent call last)",
      "Cell \u001b[0;32mIn[9], line 1\u001b[0m\n\u001b[0;32m----> 1\u001b[0m a \u001b[38;5;241m+\u001b[39m k\n",
      "\u001b[0;31mTypeError\u001b[0m: unsupported operand type(s) for +: 'int' and 'str'"
     ]
    }
   ],
   "source": [
    "a + k"
   ]
  },
  {
   "cell_type": "markdown",
   "metadata": {},
   "source": [
    "So `python` has some built-in guard rails that keep ~~me~~ us from making dumb mistakes.\n",
    "\n",
    "***\n",
    "\n",
    "What about the following:"
   ]
  },
  {
   "cell_type": "code",
   "execution_count": 11,
   "metadata": {},
   "outputs": [
    {
     "name": "stdout",
     "output_type": "stream",
     "text": [
      "62\n"
     ]
    }
   ],
   "source": [
    "var1 = 62\n",
    "var2 = False\n",
    "print(var1 + var2)"
   ]
  },
  {
   "cell_type": "markdown",
   "metadata": {},
   "source": [
    "What the WHAT!?\n",
    "\n",
    "`python` is what's called a *dynamically typed* language, meaning that it can change the type of a variable fluidly/on the fly.  So, when we ask `python` to add `var2` to an integer, `python` *interprets* `var2` in a way that seems reasonable.  In fact, many programming languages have this equivalence between the booleans and integers: `True` --> 1, `False` --> 0.\n",
    "\n",
    "Another consequence of dynamic typing is that if I initialize a variable as a certain type, the type can changed based on what I do with the variable.  Let's use the `type()` function to check the type of a variable:"
   ]
  },
  {
   "cell_type": "code",
   "execution_count": 12,
   "metadata": {},
   "outputs": [
    {
     "name": "stdout",
     "output_type": "stream",
     "text": [
      "2\n",
      "<class 'int'>\n",
      "2.1\n",
      "<class 'float'>\n"
     ]
    }
   ],
   "source": [
    "var3 = 2\n",
    "print(var3)\n",
    "print(type(var3))\n",
    "var3 = var3 + 0.1\n",
    "print(var3)\n",
    "print(type(var3))"
   ]
  },
  {
   "cell_type": "markdown",
   "metadata": {},
   "source": [
    "In most implementations, this feature of `python` allows us to be a bit careless/sloppy with quantities.  Yay!  But, there are instances where this sloppiness could cause problems.  Boo!\n",
    "\n",
    "One last feature having to do with types.  We can actively change the type of a quantity by *casting* it to another type.  We do this with functions named after the various types. There's a lot of interesting stuff that goes on behind the scenes when casting, but we'll ignore this for now.  Check these operations out:"
   ]
  },
  {
   "cell_type": "code",
   "execution_count": 13,
   "metadata": {},
   "outputs": [
    {
     "name": "stdout",
     "output_type": "stream",
     "text": [
      "432 432.0\n",
      "432 432\n",
      "432 True\n",
      "\n",
      "True 1\n",
      "True True\n",
      "True 1.0\n",
      "\n",
      "2.6835 2\n",
      "\n",
      "yowza\n"
     ]
    }
   ],
   "source": [
    "var4 = 432\n",
    "print(var4, float(var4))\n",
    "print(var4, str(var4))\n",
    "print(var4, bool(var4))\n",
    "print()\n",
    "\n",
    "var5 = True\n",
    "print(var5, int(var5))\n",
    "print(var5, str(var5))\n",
    "print(var5, float(var5))\n",
    "print()\n",
    "\n",
    "var6 = 2.6835\n",
    "print(var6, int(var6))\n",
    "print()\n",
    "\n",
    "var7 = \"yowza\"\n",
    "print(var7)\n",
    "#print(int(var7)) # this will fail... why???"
   ]
  },
  {
   "cell_type": "markdown",
   "metadata": {},
   "source": [
    "Note that casting a `float` to an `int` has a potentially useful behavior!\n",
    "\n",
    "*** \n",
    "\n",
    "## Random number generation\n",
    "\n",
    "Generating and analyzing large random or pseudo-random datasets is difficult.  In this way, computing has allowed humans to make amazing progress in the statistical sciences.  \n",
    "\n",
    "For example: In the old days, if I wanted to investigate the large-scale/statistical properties of something like a game of blackjack (you know, for cheating reasons), I had to actually *deal* many games of blackjack.  Ugh!  Gross.  That would take so much time!  With computers, I can generate millions of blackjack hands according to the deck properties and history in seconds with a bit of fairly basic programming.  \n",
    "\n",
    "Problems like this hinge on a) the computer's ability to do loops and b) the computer's ability to generate random numbers.\n",
    "\n",
    "There are several `python` libraries that provide random number generation.  We learned in a previous lesson that a *library* is a bit of code that `python` is able to use (almost like a book of extra knowledge), but that `python` doesn't pre-load.  In order to have access to the built-in stuff in the random number generation library, we need to tell `python` to load it before we do any calculations.  \n",
    "\n",
    "This process is analogous to the way that humans work.  Pretend that you and I are going on a camping trip on which we'll need to defend ourselves from bears.  You'll need to learn the skills before we go.  You *are capable* of doing it, you just don't know *how* to do it yet.  SO!  Before we leave and start camping, I ask you to go to the library and read the book \"HOW TO DEFEND ONESELF FROM BEARS\" to load the knowledge into your brain/mind.  After you do that, I can call on you to execute many bear-defense strategies: run, jump, climb tree, bear headlock, play dead, *etc*.\n",
    "\n",
    "Okay enough goofing around.  Here's an example:"
   ]
  },
  {
   "cell_type": "code",
   "execution_count": 14,
   "metadata": {},
   "outputs": [
    {
     "name": "stdout",
     "output_type": "stream",
     "text": [
      "0.0574009340563999\n"
     ]
    }
   ],
   "source": [
    "import random as rand # this line adds the random module and gives it a shorter handle \n",
    "a = rand.random()     # this line accesses the random() function that within the rand module\n",
    "print(a)"
   ]
  },
  {
   "cell_type": "code",
   "execution_count": 22,
   "metadata": {},
   "outputs": [
    {
     "name": "stdout",
     "output_type": "stream",
     "text": [
      "0.8007705583212595\n"
     ]
    }
   ],
   "source": [
    "a = rand.random()     # this line accesses the random() function that within the rand module\n",
    "print(a)"
   ]
  },
  {
   "cell_type": "markdown",
   "metadata": {},
   "source": [
    "In the first line, I imported the `random` module and called it something shorter, `rand` (a nickname of sorts so that I don't have to type as much).  In the second line, I told python to access the `random()` function of `rand`.  This function generates a random `float` between 0 and 1.  Execute the cell above a few times to see how the random number varies.\n",
    "\n",
    "The random module has LOTS of features in addition to `random()`.  It's quite sophisticated.\n",
    "\n",
    "Let's put `random()` inside of a loop to generate a whole mess of numbers:"
   ]
  },
  {
   "cell_type": "code",
   "execution_count": 23,
   "metadata": {},
   "outputs": [
    {
     "name": "stdout",
     "output_type": "stream",
     "text": [
      "0.6829679951948412\n",
      "0.5251547179876317\n",
      "0.22259135540121477\n",
      "0.26491892891931446\n",
      "0.6893204359954785\n",
      "0.17712838503091977\n",
      "0.42528643978199987\n",
      "0.20260853348866326\n",
      "0.2492744619212257\n",
      "0.1303332055697538\n",
      "0.5766944782774684\n",
      "0.9333838892007877\n",
      "0.4289006686508299\n",
      "0.12887181484182986\n",
      "0.10484153830781517\n",
      "0.18839822275264273\n",
      "0.1728562190386722\n",
      "0.7133669052603396\n",
      "0.7491400128371849\n",
      "0.30530684003560127\n"
     ]
    }
   ],
   "source": [
    "for i in range(20):\n",
    "    num = rand.random()\n",
    "    print(num)"
   ]
  },
  {
   "cell_type": "markdown",
   "metadata": {},
   "source": [
    "Every time we use `rand.random()`, it generates a new number between 0 and 1.  Good to know.\n",
    "\n",
    "There are MANY ways to use this very simple tool.  One can transform the range of the numbers quite easily.  Here's a loop that prints 20 random numbers between -1 and 1:"
   ]
  },
  {
   "cell_type": "code",
   "execution_count": 24,
   "metadata": {},
   "outputs": [
    {
     "name": "stdout",
     "output_type": "stream",
     "text": [
      "0.2272450328672353\n",
      "0.1136361833020696\n",
      "-0.3260629704232547\n",
      "-0.7254097503514634\n",
      "0.5902225060920949\n",
      "0.6264012701916299\n",
      "-0.8299818312929632\n",
      "-0.1548348210591941\n",
      "0.8169871684060466\n",
      "-0.7086381548741578\n",
      "-0.26547877990676194\n",
      "0.06780780776474571\n",
      "-0.8344039790034921\n",
      "0.6064708320342023\n",
      "0.3576320285190706\n",
      "0.39477566237509487\n",
      "-0.8490041449040153\n",
      "0.10380293058088674\n",
      "0.16971681434493457\n",
      "0.7384089608162074\n"
     ]
    }
   ],
   "source": [
    "for i in range(20):\n",
    "    rnum = rand.random()\n",
    "    new_num = 2.0*rnum - 1.0\n",
    "    print(new_num)"
   ]
  },
  {
   "cell_type": "markdown",
   "metadata": {},
   "source": [
    "Here's a snippet that writes a bunch of random points in two-dimensional space:"
   ]
  },
  {
   "cell_type": "code",
   "execution_count": 25,
   "metadata": {},
   "outputs": [
    {
     "name": "stdout",
     "output_type": "stream",
     "text": [
      "(0.07027799619441388, 0.6860808568278013)\n",
      "(0.251281388566268, 0.8553620870440376)\n",
      "(0.7807111162587349, 0.4909935985732453)\n",
      "(0.8714379373299315, 0.6716208536795922)\n",
      "(0.2484776683795632, 0.13414075739273945)\n",
      "(0.5640277024189329, 0.9794865521457568)\n",
      "(0.9579798943227955, 0.1827332911100633)\n",
      "(0.7372158174327819, 0.0807522914048121)\n",
      "(0.5784721030649663, 0.42397257107616815)\n",
      "(0.44481646761737337, 0.512413886198205)\n",
      "(0.9489629470160428, 0.3954809260432661)\n",
      "(0.23950148957987083, 0.4738752761451882)\n",
      "(0.482658661760464, 0.9644341713522387)\n",
      "(0.29419596322732966, 0.030416455664954878)\n",
      "(0.022762629500312714, 0.04290095234246649)\n",
      "(0.8265812654183523, 0.3633226422278817)\n",
      "(0.38463638022976365, 0.8478528527180352)\n",
      "(0.38587194781128886, 0.673878337811147)\n",
      "(0.19075546966159584, 0.5278492805480239)\n",
      "(0.4431108211291528, 0.013174794770997922)\n"
     ]
    }
   ],
   "source": [
    "for i in range(20):\n",
    "    x = rand.random()\n",
    "    y = rand.random()\n",
    "    print(\"(\" + str(x) + \", \" + str(y) + \")\")"
   ]
  },
  {
   "cell_type": "markdown",
   "metadata": {},
   "source": [
    "One can also input random numbers into a function:"
   ]
  },
  {
   "cell_type": "code",
   "execution_count": 26,
   "metadata": {},
   "outputs": [
    {
     "name": "stdout",
     "output_type": "stream",
     "text": [
      "2.279249292075011\n",
      "1.0690044014923918\n",
      "0.15099572697209407\n",
      "1.1137113037169488\n",
      "1.0933594621666847\n",
      "2.6647503020641365\n",
      "2.032444253533744\n",
      "0.45692058393448765\n",
      "2.518110079438924\n",
      "2.9641165897760113\n",
      "1.7579484449772205\n",
      "0.08623668137211604\n",
      "2.258048467633224\n",
      "1.3609438187707756\n",
      "0.9768760188766823\n",
      "2.4257713574525708\n",
      "2.844668402062223\n",
      "2.3907235649849956\n",
      "0.17868701272267362\n",
      "0.11047196070525711\n"
     ]
    }
   ],
   "source": [
    "def parab(x):\n",
    "    return x**2 - 4*x + 3\n",
    "\n",
    "for i in range(20):\n",
    "    input_x = rand.random()\n",
    "    parab_value = parab(input_x)\n",
    "    print(parab_value)"
   ]
  },
  {
   "cell_type": "markdown",
   "metadata": {},
   "source": [
    "These tools may all seem pretty weak, but they are the foundations of **powerful techniques**.  Scientists use the same fundamental processes to do things like study the performance of nuclear reactors, model galaxies, and simulate protein folding.  Generating random numbers is quite useful in studying quantum mechanics, too!  You may know that quantum-mechanical processes are non-deterministic; the outcome of a measurement occurs randomly according to the probability distribution of all of the possible outcomes.  Computing has allowed us to learn so much about QM that we wouldn't have otherwise.\n",
    "\n",
    "Random `floats` (remember what those are) are cool, but there are some systems that exhibit discrete behavior.  For example, if I wanted to write a random number generator to simulate you randomly choosing a card from a deck, I wouldn't want the outcome to be that you chose the 31.467459267th card.  That doesn't make sense.\n",
    "\n",
    "The random module has tools for generating random integers:"
   ]
  },
  {
   "cell_type": "markdown",
   "metadata": {},
   "source": [
    "The above line generates a random integer between 1 and 100.  This is useful for many types of real-life decisions:\n",
    "\n",
    "Hey, `python`, how many kids whould I have?"
   ]
  },
  {
   "cell_type": "code",
   "execution_count": 37,
   "metadata": {},
   "outputs": [
    {
     "data": {
      "text/plain": [
       "69"
      ]
     },
     "execution_count": 37,
     "metadata": {},
     "output_type": "execute_result"
    }
   ],
   "source": [
    "rand.randint(1,100)"
   ]
  },
  {
   "cell_type": "markdown",
   "metadata": {},
   "source": [
    "Ummmmmmm, no.\n",
    "\n",
    "Hey, `python`, how many tacos should I eat tonight?"
   ]
  },
  {
   "cell_type": "code",
   "execution_count": 38,
   "metadata": {},
   "outputs": [
    {
     "data": {
      "text/plain": [
       "90"
      ]
     },
     "execution_count": 38,
     "metadata": {},
     "output_type": "execute_result"
    }
   ],
   "source": [
    "rand.randint(1,100)"
   ]
  },
  {
   "cell_type": "markdown",
   "metadata": {},
   "source": [
    "Sage advice.  Now you're talking.\n",
    "\n",
    "There are lots of other things that one can do with random numbers, but it's probably best to become acquainted with the simple code and then learn more once you have a need.  Let's do a warm-up problem to get the juices flowing.\n",
    "\n",
    "#### Live demo!\n",
    "Generate 100 random integers between 0 and 40 or 60 and 100 (i.e., omit any numbers between 41 and 59).  You'll probably need an if statement.  Make sure there are 100!\n"
   ]
  },
  {
   "cell_type": "code",
   "execution_count": 39,
   "metadata": {},
   "outputs": [
    {
     "name": "stdout",
     "output_type": "stream",
     "text": [
      "88\n",
      "83\n",
      "8\n",
      "5\n",
      "62\n",
      "3\n",
      "92\n",
      "8\n",
      "2\n",
      "86\n",
      "70\n",
      "69\n",
      "90\n",
      "87\n",
      "3\n",
      "84\n",
      "100\n",
      "96\n",
      "28\n",
      "3\n",
      "92\n",
      "67\n",
      "71\n",
      "19\n",
      "97\n",
      "93\n",
      "99\n",
      "30\n",
      "14\n",
      "82\n",
      "99\n",
      "37\n",
      "9\n",
      "79\n",
      "34\n",
      "13\n",
      "94\n",
      "91\n",
      "92\n",
      "23\n",
      "73\n",
      "71\n",
      "72\n",
      "4\n",
      "20\n",
      "13\n",
      "86\n",
      "79\n",
      "92\n",
      "3\n",
      "17\n",
      "82\n",
      "27\n",
      "69\n",
      "65\n",
      "29\n",
      "65\n",
      "91\n",
      "3\n",
      "26\n",
      "76\n",
      "78\n",
      "12\n",
      "80\n",
      "13\n",
      "67\n",
      "0\n",
      "32\n",
      "29\n",
      "18\n",
      "69\n",
      "19\n",
      "89\n",
      "37\n",
      "76\n",
      "21\n",
      "62\n",
      "65\n",
      "72\n",
      "5\n",
      "10\n",
      "78\n",
      "71\n",
      "87\n",
      "7\n",
      "85\n",
      "70\n",
      "0\n",
      "62\n",
      "80\n",
      "62\n",
      "99\n",
      "84\n",
      "38\n",
      "85\n",
      "25\n",
      "37\n",
      "80\n",
      "65\n",
      "34\n"
     ]
    }
   ],
   "source": [
    "n_acceptable = 0\n",
    "while n_acceptable < 100:\n",
    "    r_num = rand.randint(0, 100)\n",
    "    if r_num < 40 or r_num > 60:\n",
    "        n_acceptable = n_acceptable + 1\n",
    "        print(r_num)"
   ]
  },
  {
   "cell_type": "markdown",
   "metadata": {},
   "source": [
    "* * *\n",
    "\n",
    "## Lists\n",
    "\n",
    "Now that we've talked about **types** we can talk about **containers**.  Here's an analogy to motivate us:\n",
    "\n",
    "> An egg is a type of food.  There are many different containers that we can put eggs in: an egg carton, a box, your hand, a bookbag.  These containers could also be used for other types of food.  *E.g.* I could put raisins in an egg carton, a box, your hand, *etc*.  The appropriate container depends on how we want to prepare or use the food.\n",
    "\n",
    "That analogy didn't work as well as I'd hoped, but know that most programming languages have containers for packaging collections of values.  \n",
    "\n",
    "Probably the most useful of these in `python` is the *list*.  A list is an ordered collection of elements.  A list has a first element, a second element, ..., and a last element.  Each element has a number, which we call the index, indicating its place in the list.\n",
    "\n",
    "NB: In many other languages, similar objects are called *arrays*.  I often accidentally call `python` lists \"arrays\".  We'll encounter `python` arrays in a future lesson, and youmay or may not see the differences.\n",
    "\n",
    "The most basic way to initialize a list is the following:"
   ]
  },
  {
   "cell_type": "code",
   "execution_count": 40,
   "metadata": {},
   "outputs": [],
   "source": [
    "primes_lt20 = [2, 3, 5, 7, 11, 13, 17, 19]"
   ]
  },
  {
   "cell_type": "markdown",
   "metadata": {},
   "source": [
    "Lists are a big deal in `python`, and the language offers many ways to work with and manipulate them.  First, we can access an individual element of a list by specifying its index number in **square brackets**:"
   ]
  },
  {
   "cell_type": "code",
   "execution_count": 43,
   "metadata": {},
   "outputs": [
    {
     "data": {
      "text/plain": [
       "7"
      ]
     },
     "execution_count": 43,
     "metadata": {},
     "output_type": "execute_result"
    }
   ],
   "source": [
    "primes_lt20[3]"
   ]
  },
  {
   "cell_type": "markdown",
   "metadata": {},
   "source": [
    "This might look a little weird... after all, the 4th element of the list is 7 (7 is the 4th prime number).\n",
    "\n",
    "The reason that this returns the fifth element in the list is that python is a \"zero-indexed language\", meaning that the indices of list elements begin with 0.  \n",
    "\n",
    "Check this out:"
   ]
  },
  {
   "cell_type": "code",
   "execution_count": 44,
   "metadata": {},
   "outputs": [
    {
     "data": {
      "text/plain": [
       "2"
      ]
     },
     "execution_count": 44,
     "metadata": {},
     "output_type": "execute_result"
    }
   ],
   "source": [
    "primes_lt20[0]"
   ]
  },
  {
   "cell_type": "markdown",
   "metadata": {},
   "source": [
    "OH *OKAY!*  This is one of those rules that is hard to internalize.  The indices just begin with 0 in python (and many other [but not all!] modern languages).\n",
    "\n",
    "We can check the length of the list:"
   ]
  },
  {
   "cell_type": "code",
   "execution_count": 45,
   "metadata": {},
   "outputs": [
    {
     "data": {
      "text/plain": [
       "8"
      ]
     },
     "execution_count": 45,
     "metadata": {},
     "output_type": "execute_result"
    }
   ],
   "source": [
    "len(primes_lt20)"
   ]
  },
  {
   "cell_type": "markdown",
   "metadata": {},
   "source": [
    "There are also a bunch of things that we can do with the index notation:"
   ]
  },
  {
   "cell_type": "code",
   "execution_count": 46,
   "metadata": {},
   "outputs": [
    {
     "data": {
      "text/plain": [
       "[2, 3, 5]"
      ]
     },
     "execution_count": 46,
     "metadata": {},
     "output_type": "execute_result"
    }
   ],
   "source": [
    "primes_lt20[0:3]"
   ]
  },
  {
   "cell_type": "markdown",
   "metadata": {},
   "source": [
    "The cell above returns a new list that is a subset of the original list from index 0 up to (but not including) index 3.\n",
    "\n",
    "You can also get the last element in the list by using the index -1:"
   ]
  },
  {
   "cell_type": "code",
   "execution_count": 47,
   "metadata": {},
   "outputs": [
    {
     "data": {
      "text/plain": [
       "19"
      ]
     },
     "execution_count": 47,
     "metadata": {},
     "output_type": "execute_result"
    }
   ],
   "source": [
    "primes_lt20[-1]"
   ]
  },
  {
   "cell_type": "markdown",
   "metadata": {},
   "source": [
    "From here, you can get creative."
   ]
  },
  {
   "cell_type": "code",
   "execution_count": 48,
   "metadata": {},
   "outputs": [
    {
     "data": {
      "text/plain": [
       "13"
      ]
     },
     "execution_count": 48,
     "metadata": {},
     "output_type": "execute_result"
    }
   ],
   "source": [
    "primes_lt20[-3]"
   ]
  },
  {
   "cell_type": "markdown",
   "metadata": {},
   "source": [
    "We can also add to (append, insert) or remove from (pop, remove) a list:"
   ]
  },
  {
   "cell_type": "code",
   "execution_count": 49,
   "metadata": {},
   "outputs": [
    {
     "name": "stdout",
     "output_type": "stream",
     "text": [
      "[2, 3, 5, 7, 11, 13, 17, 19]\n",
      "[2, 3, 5, 7, 11, 13, 17, 19, 23]\n"
     ]
    }
   ],
   "source": [
    "print(primes_lt20)\n",
    "primes_lt20.append(23)\n",
    "print(primes_lt20)"
   ]
  },
  {
   "cell_type": "code",
   "execution_count": 50,
   "metadata": {},
   "outputs": [
    {
     "name": "stdout",
     "output_type": "stream",
     "text": [
      "[2, 3, 5, 7, 11, 13, 17, 19, 23]\n",
      "[2, 3, 5, 301, 7, 11, 13, 17, 19, 23]\n"
     ]
    }
   ],
   "source": [
    "print(primes_lt20)\n",
    "primes_lt20.insert(3,301)\n",
    "print(primes_lt20)"
   ]
  },
  {
   "cell_type": "code",
   "execution_count": 51,
   "metadata": {},
   "outputs": [
    {
     "name": "stdout",
     "output_type": "stream",
     "text": [
      "[2, 3, 5, 301, 7, 11, 13, 17, 19, 23]\n",
      "[2, 3, 5, 7, 11, 13, 17, 19, 23]\n"
     ]
    }
   ],
   "source": [
    "print(primes_lt20)\n",
    "primes_lt20.pop(3)\n",
    "print(primes_lt20)"
   ]
  },
  {
   "cell_type": "code",
   "execution_count": 52,
   "metadata": {},
   "outputs": [
    {
     "name": "stdout",
     "output_type": "stream",
     "text": [
      "[2, 3, 5, 7, 11, 13, 17, 19, 23]\n",
      "[2, 3, 5, 7, 11, 13, 17, 19]\n"
     ]
    }
   ],
   "source": [
    "print(primes_lt20)\n",
    "primes_lt20.pop()\n",
    "print(primes_lt20)"
   ]
  },
  {
   "cell_type": "code",
   "execution_count": 53,
   "metadata": {},
   "outputs": [
    {
     "name": "stdout",
     "output_type": "stream",
     "text": [
      "[2, 3, 5, 7, 11, 13, 17, 19]\n",
      "[2, 3, 5, 7, 13, 17, 19]\n"
     ]
    }
   ],
   "source": [
    "print(primes_lt20)\n",
    "primes_lt20.remove(11)\n",
    "print(primes_lt20)"
   ]
  },
  {
   "cell_type": "markdown",
   "metadata": {},
   "source": [
    "That last one is a little funky.  `remove(elem)` removes the first element in a list that is equal to `elem`.\n",
    "\n",
    "***\n",
    "\n",
    "`python` has all kinds of cool built-in functions for dealing with lists.  For example, we can loop over the elements in a list using `for`:"
   ]
  },
  {
   "cell_type": "code",
   "execution_count": 54,
   "metadata": {},
   "outputs": [
    {
     "name": "stdout",
     "output_type": "stream",
     "text": [
      "2 False\n",
      "3 False\n",
      "5 False\n",
      "7 False\n",
      "13 True\n",
      "17 False\n",
      "19 False\n"
     ]
    }
   ],
   "source": [
    "for num in primes_lt20:\n",
    "    print(num, num == 13)"
   ]
  },
  {
   "cell_type": "markdown",
   "metadata": {},
   "source": [
    "We cas ask `python` how many elements are in a list:"
   ]
  },
  {
   "cell_type": "code",
   "execution_count": null,
   "metadata": {},
   "outputs": [],
   "source": [
    "print(len(primes_lt20))"
   ]
  },
  {
   "cell_type": "markdown",
   "metadata": {},
   "source": [
    "We can ask `python` whether a value appears in a list:"
   ]
  },
  {
   "cell_type": "code",
   "execution_count": 56,
   "metadata": {},
   "outputs": [
    {
     "data": {
      "text/plain": [
       "False"
      ]
     },
     "execution_count": 56,
     "metadata": {},
     "output_type": "execute_result"
    }
   ],
   "source": [
    "12 in primes_lt20"
   ]
  },
  {
   "cell_type": "markdown",
   "metadata": {},
   "source": [
    "... or we can ask `python` *where* a value appears in a list:"
   ]
  },
  {
   "cell_type": "code",
   "execution_count": 57,
   "metadata": {},
   "outputs": [
    {
     "data": {
      "text/plain": [
       "4"
      ]
     },
     "execution_count": 57,
     "metadata": {},
     "output_type": "execute_result"
    }
   ],
   "source": [
    "primes_lt20.index(13)"
   ]
  },
  {
   "cell_type": "markdown",
   "metadata": {},
   "source": [
    "Here is a structure that I use all the time (and you will after our next lesson).  Let's say that I have a list of random numbers, I may not know how many, and want to loop over these numbers and square them.  Please try to understand each of the lines below. "
   ]
  },
  {
   "cell_type": "code",
   "execution_count": 61,
   "metadata": {},
   "outputs": [
    {
     "name": "stdout",
     "output_type": "stream",
     "text": [
      "We have 42 elements in our list.\n",
      "\n",
      "0 \t 0.33790915291579027 \t 0.11418259562426693\n",
      "1 \t 0.43261161768083645 \t 0.1871528117524302\n",
      "2 \t 0.5143229846810862 \t 0.2645281325712608\n",
      "3 \t 0.9143695887756409 \t 0.8360717448777346\n",
      "4 \t 0.8187195108583851 \t 0.6703016374601934\n",
      "5 \t 0.25935667359390235 \t 0.06726588413769401\n",
      "6 \t 0.8987272992750669 \t 0.8077107584622557\n",
      "7 \t 0.7046964128101716 \t 0.49659703422752377\n",
      "8 \t 0.7733861879542079 \t 0.5981261957183414\n",
      "9 \t 0.7348588378075896 \t 0.5400175115039213\n",
      "10 \t 0.45849321326405623 \t 0.21021602660919936\n",
      "11 \t 0.1661815088338643 \t 0.027616293878299714\n",
      "12 \t 0.2575457644577369 \t 0.0663298207901201\n",
      "13 \t 0.6157489985976395 \t 0.3791468292739959\n",
      "14 \t 0.2228935977718317 \t 0.0496815559276711\n",
      "15 \t 0.057838330701021734 \t 0.0033452724982807533\n",
      "16 \t 0.955341721765989 \t 0.9126778053468043\n",
      "17 \t 0.7501107150978673 \t 0.5626660849046339\n",
      "18 \t 0.8030766632527737 \t 0.644932127061209\n",
      "19 \t 0.9177345326410229 \t 0.8422366724018368\n",
      "20 \t 0.6269027022238646 \t 0.3930069980555834\n",
      "21 \t 0.06357006854113356 \t 0.004041153614324419\n",
      "22 \t 0.6608348075543278 \t 0.4367026428753654\n",
      "23 \t 0.6822374764740115 \t 0.46544797430562734\n",
      "24 \t 0.6960090953127424 \t 0.48442866075806207\n",
      "25 \t 0.08673265958843168 \t 0.0075225542392827706\n",
      "26 \t 0.8723875682032805 \t 0.7610600691556333\n",
      "27 \t 0.45713689155696924 \t 0.20897413762236824\n",
      "28 \t 0.6107118161096675 \t 0.37296892233596834\n",
      "29 \t 0.08102176079712853 \t 0.0065645257226671135\n",
      "30 \t 0.8154325973869903 \t 0.6649303208812933\n",
      "31 \t 0.7737167307199109 \t 0.5986375793959071\n",
      "32 \t 0.9935826694578894 \t 0.9872065210470655\n",
      "33 \t 0.5171018822323492 \t 0.26739435660823835\n",
      "34 \t 0.9657089239529474 \t 0.9325937258023596\n",
      "35 \t 0.5091496062517681 \t 0.2592333215463305\n",
      "36 \t 0.44449028212069686 \t 0.19757161089973668\n",
      "37 \t 0.35470745697140815 \t 0.12581738003112336\n",
      "38 \t 0.8067099353691469 \t 0.6507809198232932\n",
      "39 \t 0.48217371887658167 \t 0.23249149517527282\n",
      "40 \t 0.9268827801580849 \t 0.8591116881535807\n",
      "41 \t 0.9576765436033112 \t 0.9171443621679849\n"
     ]
    }
   ],
   "source": [
    "# let's first create the list\n",
    "list1 = []    \n",
    "for i in range(rand.randint(1, 100)):\n",
    "    list1.append(rand.random())\n",
    "\n",
    "print(\"We have \" + str(len(list1)) + \" elements in our list.\\n\")\n",
    "\n",
    "# then we'll do a for loop\n",
    "for i in range(len(list1)): \n",
    "    num = list1[i]\n",
    "    print(i, '\\t', list1[i], '\\t', (list1[i])**2)"
   ]
  },
  {
   "cell_type": "markdown",
   "metadata": {},
   "source": [
    "The block above makes a list containing a random number of random numbers, and then \"runs over\" the elements in this list and squares each.\n",
    "\n",
    "For my last list trick, I'll show you that `python` knows how to do some simple operations with multiple lists.  In some cases, the outcomes are obvious.  In other situations, python's interpretation of the syntax may be surprising:"
   ]
  },
  {
   "cell_type": "code",
   "execution_count": 62,
   "metadata": {},
   "outputs": [
    {
     "data": {
      "text/plain": [
       "[1, 6, 3, 7, 9, 2, 4, 6, 7, 7, 8, 9, 0]"
      ]
     },
     "execution_count": 62,
     "metadata": {},
     "output_type": "execute_result"
    }
   ],
   "source": [
    "aL = [1, 6, 3, 7, 9, 2, 4, 6, 7]\n",
    "bL = [7, 8, 9, 0]\n",
    "\n",
    "aL + bL"
   ]
  },
  {
   "cell_type": "code",
   "execution_count": 63,
   "metadata": {},
   "outputs": [
    {
     "name": "stdout",
     "output_type": "stream",
     "text": [
      "[1, 2, 3, 4, 6, 6, 7, 7, 9]\n"
     ]
    }
   ],
   "source": [
    "aL.sort()\n",
    "print(aL)"
   ]
  },
  {
   "cell_type": "markdown",
   "metadata": {},
   "source": [
    "It's also worth noting that `python` is perfectly happy with lists that contain different types of data.  For example, some programming languages would freak out about the following:"
   ]
  },
  {
   "cell_type": "code",
   "execution_count": 65,
   "metadata": {},
   "outputs": [
    {
     "name": "stdout",
     "output_type": "stream",
     "text": [
      "[1, 2, 4.5, -6.2, 'a phrase', 99, 'hey, another phrase']\n"
     ]
    },
    {
     "ename": "TypeError",
     "evalue": "'<' not supported between instances of 'str' and 'int'",
     "output_type": "error",
     "traceback": [
      "\u001b[0;31m---------------------------------------------------------------------------\u001b[0m",
      "\u001b[0;31mTypeError\u001b[0m                                 Traceback (most recent call last)",
      "Cell \u001b[0;32mIn[65], line 3\u001b[0m\n\u001b[1;32m      1\u001b[0m mixed_list \u001b[38;5;241m=\u001b[39m [\u001b[38;5;241m1\u001b[39m, \u001b[38;5;241m2\u001b[39m, \u001b[38;5;241m4.5\u001b[39m, \u001b[38;5;241m-\u001b[39m\u001b[38;5;241m6.2\u001b[39m, \u001b[38;5;124m'\u001b[39m\u001b[38;5;124ma phrase\u001b[39m\u001b[38;5;124m'\u001b[39m, \u001b[38;5;241m99\u001b[39m, \u001b[38;5;124m\"\u001b[39m\u001b[38;5;124mhey, another phrase\u001b[39m\u001b[38;5;124m\"\u001b[39m]\n\u001b[1;32m      2\u001b[0m \u001b[38;5;28mprint\u001b[39m(mixed_list)\n\u001b[0;32m----> 3\u001b[0m mixed_list\u001b[38;5;241m.\u001b[39msort()\n",
      "\u001b[0;31mTypeError\u001b[0m: '<' not supported between instances of 'str' and 'int'"
     ]
    }
   ],
   "source": [
    "mixed_list = [1, 2, 4.5, -6.2, 'a phrase', 99, \"hey, another phrase\"]\n",
    "print(mixed_list)\n",
    "mixed_list.sort()"
   ]
  },
  {
   "cell_type": "markdown",
   "metadata": {},
   "source": [
    "* * *\n",
    "\n",
    "## Dictionaries\n",
    "\n",
    "Lists are ordered collections of data -- \"ordered\" means that the order of the elements is an important feature of the structure, and indexing these elements with an integer makes sense.  `python` also has a way (actual several ways/containers) of storing data for which ordering isn't that important (but still exists).  \n",
    "\n",
    "A **dictionary** is like a list, but the elements are indexed by strings called **key**s.  In a `dict`, each **value** is associated with a **key**.  This might sound crazy, but it works quite a bit like a simple 2-column data table.  Dictionaries are initialized in the following way:"
   ]
  },
  {
   "cell_type": "code",
   "execution_count": null,
   "metadata": {},
   "outputs": [],
   "source": [
    "students_year = {'Abdoul': 2, 'Aiden': 2, 'Aimee': 2, 'Gannon': 2, \n",
    "                 'Gaurav': 2, 'Gia': 2, 'Maddy': 1, 'Alex': 4}\n",
    "\n",
    "print(type(students_year))"
   ]
  },
  {
   "cell_type": "markdown",
   "metadata": {},
   "source": [
    "We can access the elements in the dictionary in the same way as for a list, but now the \"indices\" are the key strings:"
   ]
  },
  {
   "cell_type": "code",
   "execution_count": null,
   "metadata": {},
   "outputs": [],
   "source": [
    "students_year['Abdoul']"
   ]
  },
  {
   "cell_type": "markdown",
   "metadata": {},
   "source": [
    "Note that there are **two** pieces of important information for each element in a dictionary: the key and the value.  Because order is less imporant for a dictionary, there are several ways of looping over the elements in it.  Check out these implementations:"
   ]
  },
  {
   "cell_type": "code",
   "execution_count": null,
   "metadata": {},
   "outputs": [],
   "source": [
    "for k in students_year.keys():\n",
    "    print(k)\n",
    "\n",
    "# for v in students_year.values():\n",
    "#     print(v)\n",
    "    \n",
    "# for key, value in students_year.items():\n",
    "#     print(key, 'is my favorite student in year', value, '!')"
   ]
  },
  {
   "cell_type": "markdown",
   "metadata": {},
   "source": [
    "Note that even though ordering is not important in a dictionary, there seems to be an assumed order, *viz.* the order in which we initialized it.  There are various other fancy ways to iterate over the dictionary.  Some of these impose an index on the dictionary.  Here's an example:"
   ]
  },
  {
   "cell_type": "code",
   "execution_count": null,
   "metadata": {},
   "outputs": [],
   "source": [
    "for i, (k, v) in enumerate(students_year.items()):\n",
    "    print(i, k, v)"
   ]
  },
  {
   "cell_type": "markdown",
   "metadata": {},
   "source": [
    "* * *\n",
    "## Live demos!\n",
    "\n",
    "#### 1. Max finder\n",
    "Write a program that generates a list of 100 random integers between 0 and 10^6 (inclusive), and then finds the largest number in the list.  Your program should NOT use any built-in methods/functions like `max`."
   ]
  },
  {
   "cell_type": "code",
   "execution_count": 75,
   "metadata": {},
   "outputs": [
    {
     "name": "stdout",
     "output_type": "stream",
     "text": [
      "998447\n"
     ]
    }
   ],
   "source": [
    "rand_list = []\n",
    "for i in range(100):\n",
    "    r_num = rand.randint(0, 1000001)\n",
    "    rand_list.append(r_num)\n",
    "\n",
    "largest_num = 0\n",
    "for num in rand_list:\n",
    "    if num > largest_num:\n",
    "        largest_num = num\n",
    "\n",
    "print(largest_num)"
   ]
  },
  {
   "cell_type": "markdown",
   "metadata": {},
   "source": [
    "#### 2. A simple card game simulation\n",
    "Think of a deck of cards as containing cards numbered 1 (ace) through 13 (king) of each suit for a total of 52 cards.  \n",
    "- First, generate a list that contains the numbers of the cards.\n",
    "- Write a block of code that randomly selects three cards from the deck without replacing each card.  (Be careful!)\n",
    "- Check whether the cards drawn contain a pair.\n",
    "- Do the above steps $N = 5000$ times by enclosing them in a loop.  Count the number of times you drew a pair and call this number $p$.\n",
    "- Calculate the probability of drawing a pair in three cards by dividing $p/N$."
   ]
  },
  {
   "cell_type": "code",
   "execution_count": null,
   "metadata": {},
   "outputs": [],
   "source": []
  }
 ],
 "metadata": {
  "kernelspec": {
   "display_name": "Python 3 (ipykernel)",
   "language": "python",
   "name": "python3"
  },
  "language_info": {
   "codemirror_mode": {
    "name": "ipython",
    "version": 3
   },
   "file_extension": ".py",
   "mimetype": "text/x-python",
   "name": "python",
   "nbconvert_exporter": "python",
   "pygments_lexer": "ipython3",
   "version": "3.11.0"
  }
 },
 "nbformat": 4,
 "nbformat_minor": 4
}
