{
 "cells": [
  {
   "cell_type": "markdown",
   "metadata": {},
   "source": [
    "# Lesson 1.0: Welcome, set-up and background, basic syntax, variables, functions"
   ]
  },
  {
   "cell_type": "markdown",
   "metadata": {},
   "source": [
    "## Welcome!\n",
    "\n",
    "We're glad to have you in the 2024 STEMNetX Coding/Data Science/Scientific Computation Workshop!  \n",
    "\n",
    "A little bit about me:\n",
    "\n",
    "- **Name:** Mike McCracken\n",
    "- **Call me:** Mike (please)\n",
    "- **Position:** Physics Professor at Washington & Jefferson College\n",
    "- **Why I am leading a coding bootcamp:** Computation is an indispensible tool in my field of reserach (particle physics).  I love it!  AND I love helping STEM students to develop their programming, data analysis, and quantitative literacy skills.\n",
    "- **How to contact me:** E-mail, please!  (mmccracken@washjeff.edu)\n",
    "\n",
    "### Workshop resources\n",
    "\n",
    "All materials for this workshop can be found on [Mike's github](https://github.com/mmccracken0137/STEMNetX_coding_camp).  If you don't have the resources yet, you can't click that link (LOL) so you'll either have to search for me on github (mmccracken0137) or type the url below into your browser:\n",
    "\n",
    "#### github.com/mmccracken0137/STEMNetX_coding_camp\n",
    "\n",
    "I developed the materials for this workshop from the \"textbook\" that we use for PHY 250 Intro to Computation for the Physical Sciences at Wasghinton & Jefferson College.  You can access this textbook F R E E [on my github page](https://mmccracken0137.github.io/scicomp_book/intro.html).  There's a lot more material there!  Enjoy.\n",
    "\n",
    "### Agenda\n",
    "\n",
    "The asynchnonous workshop will be broken into nine (9) lessons, each with its own notebook file (like this one) and video (like the one you may be watching right now).  A good plan of attack might be to spend two days working casually on each lesson.\n",
    "\n",
    "Here's the list of modules:\n",
    "- 1.0 (this one!): Welcome, installing python, background, basic syntax,\n",
    "- 1.1: Control structures\n",
    "- 2.0: Types, lists, dictionaries, random numbers\n",
    "- 2.1: File I/O\n",
    "- 2.2: Data visualization\n",
    "- 3.0: Monte Carlo techniques\n",
    "- 3.1: Fitting\n",
    "- 4.0: Text as data\n",
    "- 4.1: Data reduction with `Pandas`\n",
    "\n",
    "While there are 9 lessons in total, I've grouped them into 4 modules.  You can think of modules 1 and 2 as being about the basics of programming in `python`, while modules 3 and 4 are about more general applications of programming (which we will do in... you guessed it: `python`).\n",
    "\n",
    "### Asynchronous work approach\n",
    "\n",
    "A good plan for consuming these lessons is to:\n",
    "1. Watch the video for each lesson, pausing to execute code cells in the notebook\n",
    "2. Read through the notebook in closer detail -- there's a lot of stuff that I won't say in the video!\n",
    "3. Execute/modify the code cells as instructed.\n",
    "4. Try a couple of the warm-up problems.  Don't be afraid to just type in the solutions that I come up with in the videos!  \n",
    "5. Try a coupe homework problems\n",
    "\n",
    "***"
   ]
  },
  {
   "cell_type": "markdown",
   "metadata": {
    "tags": []
   },
   "source": [
    "## Set-up and background\n",
    "\n",
    "### Let's install `python`\n",
    "\n",
    "We will use Anaconda, a large suite of software that is oriented toward data science.  The Anaconda distribution includes everything you will need for this camp.\n",
    "\n",
    "To install, please go to [anaconda.com/download](https://www.anaconda.com/download), enter your personal (not school) e-mail address, and choose the package for your operating system.  Installation will take a few minutes, so let me talk at you while you do that."
   ]
  },
  {
   "cell_type": "markdown",
   "metadata": {},
   "source": [
    "\n",
    "### Why `python`?\n",
    "\n",
    "Python, or more commonly `python`, is a general-purpose, object-oriented, interpreted programming language that has several benefits relevant to this course:\n",
    "\n",
    "- **Free and open-source.** It is F R E E.  You can/should install it on your personal computer.  We will use the Anaconda `python` distribution, which is a product produced by a company (Continuum) that likes to make money, but it is free for you to use as an individual.\n",
    "- **Learnable.** `python` is (relatively) simple to learn.  Most of the syntax is human-readable and intuitive (once you learn a little bit about it).  `python` is an example of a \"high-level\" language, meaning that the instructions and syntax that you will type are easy to read and interpret by humans.  `python` knows how to interpret these commands into instructions for the computer's hardware.  There are other languages that are \"closer to the metal\", but `python` will be better for learning the basics of what a program is and does.\n",
    "- **It's ubiquitous!**  `python` is platform-independent (will work on almost any OS).  Even though it's simple, many people use python to do meaningful programming.  `python` is also nearly ubiquitous for applications in economics, robotics, artificial intelligence, finance, computational biology, *etc.*, *etc.*, *etc*.  As such, it is VERY well documented...\n",
    "- **Documentation/support network.**  Many people use `python` to do really cool things, and the on-line community is excellent.  The answer to most of your python questions is just a Google/Yahoo/AltaVista/AskJeeves away.  (Similar to LaTeX!)\n",
    "- **Teachable.** It has this convenient Jupyter-notebook thing.  More on that later...\n",
    "- **Portable.** The skills that you'll learn in this workshop are transferrable in that if you can implement them in `python`, you can fairly easily figure out how to do them in many other programming languages (MATLAB, Mathematica, C, java, ...).\n",
    "\n",
    "***"
   ]
  },
  {
   "cell_type": "markdown",
   "metadata": {},
   "source": [
    "### What are we even doing here?\n",
    "\n",
    "The tl;dr is: \n",
    "> We will be investigating some of the foundational principles of computer programming, specifically those which are useful in the physical/quantitative sciences.  \n",
    "\n",
    "Now, you may ask yourself, \"Why?\"  I have pretty good answers to this question, which you should read at your leisure:\n",
    "\n",
    "1. The study of science (as a student) and pursuit of scientific research are often characterized by doing long, difficult, or tedious calculations.  While much insight can be acheived by doing such things by hand (and we'll definitely make you do them by hand at some point), modern computation has allowed physicists, mathematicians, biologists, chemists, social scientists, and researchers in many other fields to do things that they previously thought impossibly or prohibitively time-consuming.  [There are entire fields of physics, chemistry, and biology that are possible *only* with the use of computers. (See Lattice Gauge Theory, Computational Biophysics, Genomics/Bioinformatics, etc.).]\n",
    "1. Experiments are often expensive... REALLY expensive, both in terms of money and time.  [*E.g.*, the Large Hadron Collider at CERN cost more than 13 gigadollars to construct and has an annual operating budget of about 1 gigadollars!]  Physics experiments often take a long time to build and perform.  [*E.g.*, planning for the next generation of high-energy accelerators began over twenty years ago and the experiments wouldn't be built (if at all) for another 20 years.]  Before investing massive amounts of capital and effort (and energy!), scientists rely on simulations of their experiments to suggest whether they are feasible and will give the desired precision or scope.  This is hard, but it's a heck of a lot cheaper (and more responsible) than dropping gigadollars on a project that *might not* work.\n",
    "1. Science is (loosely) concerned with drawing conclusions about the Universe by considering measurements of the Universe.  We now live in an era of **BIG DATA**, volumes of information too vast for humans to process in any useful amount of time.  The only way to turn these data into knowledge and wisdom is with computers.\n",
    "\n",
    "As such, programming is a vital part of almost all fields of scientific research and industry. \n",
    "\n",
    "#### Some terms:\n",
    "\n",
    "Let's quickly define some terms:\n",
    "- **Coding** is the term that \"cool\" people use for programming a computer, *i.e.* writing instructions that a computer will execute.\n",
    "- **Data science** is an umbrella term for the tools used in making decisions based on analysis of data (quantitative information).\n",
    "- **Scientific computation** is an umbrella term for the types of computer programming that are often used in scientific fields.  For example, graphing data and performing fits are essential tools in many scientific fields, but formatting websites not so much."
   ]
  },
  {
   "cell_type": "markdown",
   "metadata": {},
   "source": [
    "### *The* problem of programming\n",
    "\n",
    "One of the difficulties that students sometimes have with learning programming is what I call the \"WHAT THE H%&! IS GOING ON PROBLEM\" (TM).  If you're new to programming and to using a computer in a meaningful way, it's difficult to form a conceptual model of what is happening where.  Here is all you need to know:\n",
    "> What is computer programming?\n",
    "Computer programming is the name given to the process of writing *programs* (\"code\") that tell a computer what to do.  Programs are written in a *language* (python is a language) and interpreted by the computer to manipulate the computer's hardware.  Learning how to program is a two-tiered process: you need to learn what types of things a computer can be told to do, and you need to learn the language (\"syntax\" in a given programming language) that allows you to instruct the computer.\n",
    "\n",
    "Many parallels can be drawn between this process and human language acquisition.  Think about the steps that you had to go through to learn to speak your first language.  (If you speak more than one language) Did you go through the same steps in learning your second langauge?\n",
    "\n",
    "That's it!  (Not really.)  If you keep this in mind, however, you can't get lost.  (Well, NOT REALLY.)  But, it's a pretty good mantra: *I'm telling the computer what to do.*\n",
    "\n",
    "**There is nothing magical about programming a computer.  If you can write out a set of instructions with a pencil, you can translate these into computer code with the appropriate syntax.**"
   ]
  },
  {
   "cell_type": "markdown",
   "metadata": {
    "tags": []
   },
   "source": [
    "### Jupyter notebooks\n",
    "\n",
    "In this workshop we'll do our work in this integrated development environment inside of a browser.  This is called a **Jupyter notebook.**  This isn't the way that most \"real programmers\" (or even fake programmers like me) write code, but this will serve as a nice sandbox in which we can play and in which I can interleave comments and instructions.  There are (at least) two types of \"cells\" here.\n",
    "\n",
    "- **Markdown cells** (like this one) are just text that is intended to be read.  (...As you are doing that right now.)\n",
    "- **Code cells** are `python` code that gets executed.  Code cells are usually followed by output cells.\n",
    "    \n",
    "When you want to execute a cell, you place the cursor in the cell and hit **[SHIFT + ENTER]**.\n",
    "\n",
    "An IMPORTANT thing to know is that even though you are writing and running these programs in your browser, they are manipulating the hardware of your computer.  The browser only acts as a canvas here; you're not actually accessing the internet.\n",
    "\n",
    "### Mike Mike Mike\n",
    "\n",
    "Reminder to show them in the video how to download and open a notebook file.  Thanks!\n",
    "\n",
    "***"
   ]
  },
  {
   "cell_type": "markdown",
   "metadata": {},
   "source": [
    "# OMG, just get on with it, Mike!\n",
    "\n",
    "***\n",
    "\n",
    "## Let's get started: basic syntax\n",
    "\n",
    "A not completely terrible way to get started with programming is to learn a couple of basic syntactical structures and then solve some problems.  This is the approach that we'll use.  If you're confused/lost/perturbed/desparate, IT'S NOT YOU.  Please ask a question.  Syntax can be tough to learn, but you have to exercise to get stronger.  Pressure makes diamonds.\n",
    "\n",
    "LET'S DO IT!"
   ]
  },
  {
   "cell_type": "markdown",
   "metadata": {},
   "source": [
    "#### First up, let's do some simple calculations.  \n",
    "\n",
    "You can think about the cells below as being similar to what you might enter into a calculator.\n",
    "\n",
    "Execute each of the following code cells by placing your cursor in the cell and pressing [SHIFT+ENTER].  You can modify any of these cells at any time!  Notice that code cells have numbers beside them..."
   ]
  },
  {
   "cell_type": "code",
   "execution_count": null,
   "metadata": {},
   "outputs": [],
   "source": [
    "2 + 2 + 2"
   ]
  },
  {
   "cell_type": "code",
   "execution_count": null,
   "metadata": {},
   "outputs": [],
   "source": [
    "3 * 2"
   ]
  },
  {
   "cell_type": "code",
   "execution_count": null,
   "metadata": {},
   "outputs": [],
   "source": [
    "3*4*1*4*5*6/2/6/8/3*10*100"
   ]
  },
  {
   "cell_type": "code",
   "execution_count": null,
   "metadata": {},
   "outputs": [],
   "source": [
    "2^10"
   ]
  },
  {
   "cell_type": "markdown",
   "metadata": {},
   "source": [
    "**Wait, WHAT???**\n",
    "\n",
    "We would expect 2 to the 10th power to be 1024.  This is our first example of `python` syntax not being what we would assume from pre-calculus.  It turns out the caret (\"^\") symbol does not mean \"raise to the power\".  Rather, `python` does powers like this:"
   ]
  },
  {
   "cell_type": "code",
   "execution_count": null,
   "metadata": {},
   "outputs": [],
   "source": [
    "2**10"
   ]
  },
  {
   "cell_type": "markdown",
   "metadata": {},
   "source": [
    "Let's move on..."
   ]
  },
  {
   "cell_type": "code",
   "execution_count": null,
   "metadata": {},
   "outputs": [],
   "source": [
    "29**0.5"
   ]
  },
  {
   "cell_type": "code",
   "execution_count": null,
   "metadata": {},
   "outputs": [],
   "source": [
    "29**(0.5), 29**0.4, 29**0.3, 29**0.2, 29**0.1"
   ]
  },
  {
   "cell_type": "markdown",
   "metadata": {},
   "source": [
    "The expression in the following cell is \"commented out\", meaning that the \\# that begins the line causes `python` to not evaluate the line.  If you run the cell as is, nothing will happen... but if you delete the \\#, something *will* happen.  Give it a try!"
   ]
  },
  {
   "cell_type": "code",
   "execution_count": null,
   "metadata": {
    "scrolled": true
   },
   "outputs": [],
   "source": [
    "#29.0^0.5"
   ]
  },
  {
   "cell_type": "markdown",
   "metadata": {},
   "source": [
    "OH NUTS.  What happened?\n",
    "\n",
    "This is the first example of what's called a **run-time error**.  Something about the code that we wrote above didn't work with how python wants to interpret instructions.  In this case, the error that `python` threw \n",
    ">`TypeError: unsupported operand type(s) for ^: 'int' and 'float'`\n",
    "\n",
    "is pretty instructive (if you know a bit more `python` than we do right now).  It seems like `^` is not a recognized operator for floats (numbers that are not integers); *i.e.*, `python` doesn't know what to **do** when you put a `^` between two floats.  Here are some similar problems you may encounter -- uncomment each and try it out:"
   ]
  },
  {
   "cell_type": "code",
   "execution_count": null,
   "metadata": {},
   "outputs": [],
   "source": [
    "#(29"
   ]
  },
  {
   "cell_type": "code",
   "execution_count": null,
   "metadata": {},
   "outputs": [],
   "source": [
    "#4.1.6"
   ]
  },
  {
   "cell_type": "code",
   "execution_count": null,
   "metadata": {},
   "outputs": [],
   "source": [
    "#23 + 23598753 + a"
   ]
  },
  {
   "cell_type": "markdown",
   "metadata": {},
   "source": [
    "Ewps!  `python` will usually yell at you when you make a run-time error.  Generally run-time errors are easy to diagnose and fix -- `python` gives us error messages that usually get right to the heart of our problem.\n",
    "\n",
    "The really insidious errors are those that cause code to run but produce incorrect behavior.  They are harder to diagnose and fix.  We will encounter those soon.\n",
    "\n",
    "Let's also take a look at an operator that you probably haven't thought about in a loooooong time: **the modular division operator**.  Remember when you learned how to divide two numbers and give the remainder, *i.e.* the number that's left over?  That's what modular division does.  Take a look:"
   ]
  },
  {
   "cell_type": "code",
   "execution_count": null,
   "metadata": {},
   "outputs": [],
   "source": [
    "12 % 5"
   ]
  },
  {
   "cell_type": "code",
   "execution_count": null,
   "metadata": {},
   "outputs": [],
   "source": [
    "20 % 5"
   ]
  },
  {
   "cell_type": "code",
   "execution_count": null,
   "metadata": {},
   "outputs": [],
   "source": [
    "345702835203 % 5"
   ]
  },
  {
   "cell_type": "markdown",
   "metadata": {},
   "source": [
    "The `%` operator will be quite useful soon!\n",
    "\n",
    "* * * \n",
    "## Variables\n",
    "\n",
    "So, the next step in complexity is to declare variables and use them for calculations.  Variables are quite interesting in `python` for quite complicated reasons.  The following statement declares the variable `a` and sets its value to `2.0e-9` (shorthand for scientific notation $2.0\\times 10^{-9}$):"
   ]
  },
  {
   "cell_type": "code",
   "execution_count": null,
   "metadata": {},
   "outputs": [],
   "source": [
    "a = -2.0*10**-9"
   ]
  },
  {
   "cell_type": "markdown",
   "metadata": {},
   "source": [
    "Note that no output is displayed here.  `python` did do something: it set aside some space in memory for `a` and then put the value `2.0e-9` there.\n",
    "\n",
    "Let's check the value of `a` using the `print` function:"
   ]
  },
  {
   "cell_type": "code",
   "execution_count": null,
   "metadata": {},
   "outputs": [],
   "source": [
    "print(a)"
   ]
  },
  {
   "cell_type": "markdown",
   "metadata": {},
   "source": [
    "Cool.  Looks good.\n",
    "\n",
    "So, a single `=` is a type of operation that stores a value in a variable.  This is very similar to what you do when you do algebra with an expression like $x = 12$.  $x$ has this value in any other equations that you use later.\n",
    "\n",
    "Let's do something more useful:"
   ]
  },
  {
   "cell_type": "code",
   "execution_count": null,
   "metadata": {},
   "outputs": [],
   "source": [
    "# Ideal gas law calculation\n",
    "\n",
    "pressure = 101300\n",
    "volume = 1.12\n",
    "n = 26.08\n",
    "R = 8.31\n",
    "\n",
    "temp = pressure * volume / n / R\n",
    "print(\"The temperature of our gas is\", temp, 'K.')"
   ]
  },
  {
   "cell_type": "markdown",
   "metadata": {},
   "source": [
    "We did it!  Storing the values of four quantities, we were able to calculate the a fifth quantity symbolically.  Note also that the block of code above did several things in a specific order -- each line of code was a separate command, either initializing/setting a variable or doing a calculation (or printing). \n",
    "\n",
    "This isn't all THAT impressive, but now that we've stored these values in variables, we can use them again.  What if we have a different pressure?"
   ]
  },
  {
   "cell_type": "code",
   "execution_count": null,
   "metadata": {},
   "outputs": [],
   "source": [
    "pressure = 180000\n",
    "\n",
    "temp = pressure * volume / n / R\n",
    "print(\"The temperature of our gas is\", temp, 'K.')"
   ]
  },
  {
   "cell_type": "markdown",
   "metadata": {},
   "source": [
    "So, I stored a new value in the `pressure` variable, but the other variable values remained the same and I could just reuse them.  This Jupyter notebook keeps information from cell to cell.\n",
    "\n",
    "What's that you say?  You're a Fahrenheit person?  OK, I guess!"
   ]
  },
  {
   "cell_type": "code",
   "execution_count": null,
   "metadata": {},
   "outputs": [],
   "source": [
    "tempF = (temp - 273.15) * 9 / 5 + 32\n",
    "print(\"The temperature in Fahrenheit is\", tempF, \"degrees.\")"
   ]
  },
  {
   "cell_type": "markdown",
   "metadata": {},
   "source": [
    "WOOP WOOP.\n",
    "\n",
    "Make sure you take a good long look at the last few code cells and understand what's happening.  This type of syntax is going to become super important for our later work.\n",
    "\n",
    "Okay, act cool.  I know that we're all really excited right now.  \n",
    "\n",
    "#### Ultra-important Caveat:\n",
    "Once a variable is declared, it exists for the rest of a program (unless it's inside a loop; more on that later).  So, you don't want to reuse variable names unless you have a really good reason for doing so.\n",
    "\n",
    "This also makes the order in which you evaluate cells VERY important!  The cell numbers that appear beside code cells are useful if your code is ever behaving strangely.\n",
    "\n",
    "***\n",
    "\n",
    "## Functions\n",
    "\n",
    "Wouldn't it be \"cool\" to be able to use these variables more efficiently?  One can do so by declaring functions.  I'm going to write a function that calculates the temperature of an ideal gas with a pressure and volume value that are supplied by the user:"
   ]
  },
  {
   "cell_type": "code",
   "execution_count": null,
   "metadata": {},
   "outputs": [],
   "source": [
    "def ideal_gas_temp(press, vol):\n",
    "    n_moles = 26.08\n",
    "    num = press * vol\n",
    "    denom = n_moles * 8.31\n",
    "    return num / denom"
   ]
  },
  {
   "cell_type": "markdown",
   "metadata": {},
   "source": [
    "Note: `def` and `return` are very special terms in `python`.  They are example of \"keywords\", important words that have particular meaning.  `def` tells `python` that we're about to define a function, so `python` prepares to interpret the following lines in a particular way. `return` tells `python` what the output of our function should be.  Not all functions must have a `return` statement, but most of the functions we create will.\n",
    "\n",
    "Also note: the meat of the function definition is indented to the right.  Indentation is very important in python, and one must take care to do it properly.\n",
    "\n",
    "Now we can use this function as many times as we want!"
   ]
  },
  {
   "cell_type": "code",
   "execution_count": null,
   "metadata": {},
   "outputs": [],
   "source": [
    "ideal_gas_temp(101300, 1.12)"
   ]
  },
  {
   "cell_type": "code",
   "execution_count": null,
   "metadata": {},
   "outputs": [],
   "source": [
    "ideal_gas_temp(200000, 1.12)"
   ]
  },
  {
   "cell_type": "code",
   "execution_count": null,
   "metadata": {},
   "outputs": [],
   "source": [
    "ideal_gas_temp(80000, 0.08)"
   ]
  },
  {
   "cell_type": "markdown",
   "metadata": {},
   "source": [
    "***\n",
    "\n",
    "## A taste of loops\n",
    "\n",
    "At this point, you're probably not very impressed.  I don't blame you -- we've basically just made your computer function like a $10 calculator.\n",
    "\n",
    "One of the things that computers are really, really useful for is mindless, repetitive tasks.  We can make computers do this (they aren't unionized) using *loops*.\n",
    "\n",
    "There are several ways to control loops, referred to as **control structures**.  In this lesson, we'll introduce definite loops, and we'll expand on control structures in the next lesson.\n",
    "\n",
    "### `for` Loops\n",
    "\n",
    "The first control structure that we'll use is the `for` loop.  A `for` loop performs the tasks inside of the loop FOR a fixed number of iterations.  The syntax for writing a `for` loop in python looks like this:"
   ]
  },
  {
   "cell_type": "code",
   "execution_count": null,
   "metadata": {},
   "outputs": [],
   "source": [
    "print(\"Let's compute the square roots of the first 10 non-negative integers!\")\n",
    "for i in [0, 1, 2, 3, 4, 5, 6, 7, 8, 9]:\n",
    "    print(i, i**0.5)\n",
    "\n",
    "print(\"We are now done.\")"
   ]
  },
  {
   "cell_type": "markdown",
   "metadata": {},
   "source": [
    "There are several important pieces of this loop syntax:\n",
    "- **An iterator.**  The variable `i` in this syntax is called the iterator; a new value is stored in this variable each time through the loop.\n",
    "- **A colon** (`:`).  The colon works like it does in english syntax, *i.e.* \"Hey, computer, do the following things: print 0, print 1, print 2, print 3, ...\"\n",
    "- **The indentation** tells python what instructions happen \"inside\" the loop. The list of steps to perform *for* each value of the iterator are those lines of code that are indented.  The first line that's not indented is not part of the loop.\n",
    "- Notice that the command in the loop isn't changing; rather, it's the value of the variable `i` that is changing!\n",
    "\n",
    "***\n",
    "\n",
    "This looks really dumb, but it's a very useful structure if we add calculation to it.  For example, we can sum the numbers from 0 to 2024.  The `range()` function constructs (something like) a list of values to loop over."
   ]
  },
  {
   "cell_type": "code",
   "execution_count": null,
   "metadata": {},
   "outputs": [],
   "source": [
    "sum = 0\n",
    "for i in range(2024):\n",
    "    sum = sum + i  \n",
    "\n",
    "print(sum)"
   ]
  },
  {
   "cell_type": "markdown",
   "metadata": {},
   "source": [
    "Here's another common sum!  If you've taken a calculus course, you may recall that \n",
    "$$ \\frac{\\pi^2}{6} = \\displaystyle\\sum_{n=1}^{\\infty} \\frac{1}{n^2}$$\n",
    "We can't sum all infinity terms (!), but we can get a pretty good approximation with 100 million terms!"
   ]
  },
  {
   "cell_type": "code",
   "execution_count": null,
   "metadata": {},
   "outputs": [],
   "source": [
    "summation = 0\n",
    "for i in range(100000000):\n",
    "    summation = summation + 1/(i+1)**2\n",
    "    \n",
    "print(summation)\n",
    "\n",
    "print((3.14159**2 / 6))"
   ]
  },
  {
   "cell_type": "markdown",
   "metadata": {},
   "source": [
    "Or we can list some terms from a geometric series of 2:"
   ]
  },
  {
   "cell_type": "code",
   "execution_count": null,
   "metadata": {},
   "outputs": [],
   "source": [
    "for i in range(20):\n",
    "    print(2**i)"
   ]
  },
  {
   "cell_type": "markdown",
   "metadata": {},
   "source": [
    "`for` loops are an implementation of what we call a **Definite Loop**.  \"Definite\" here means that the loop executes a definite, pre-defined, explicity stated (hard-coded) number of times.  Said another way, we can look at the code and know *exactly* how many times the loop will execute.\n",
    "\n",
    "These aren't particularly enlightening problems, but they would be annoying to do without a computer.\n",
    "\n",
    "The way that the loop executes is actually kind of interesting, but we'll have to wait until our next lesson to get into this."
   ]
  },
  {
   "cell_type": "markdown",
   "metadata": {},
   "source": [
    "Nice.\n",
    "***\n",
    "## In summary  \n",
    "\n",
    "Believe it or not, you are close to having skills necessary to investigate open problems in science and mathematics!  Let's test our skills to this point.\n",
    "\n",
    "When it comes to programming, the most learning happens when you *do* to the programming!  I've included some demo problems below.  We'll do a few of them together, and you should try the rest on your own to test your progress.  Flex those `python` muscles!\n",
    "\n",
    "* * *\n",
    "\n",
    "### Homework!\n",
    "\n",
    "#### 1. What do you get if you divide 201 by 7 six times?"
   ]
  },
  {
   "cell_type": "code",
   "execution_count": null,
   "metadata": {},
   "outputs": [],
   "source": []
  },
  {
   "cell_type": "markdown",
   "metadata": {},
   "source": [
    "#### 2. Is 43809530753 divisible by 233?"
   ]
  },
  {
   "cell_type": "code",
   "execution_count": null,
   "metadata": {},
   "outputs": [],
   "source": []
  },
  {
   "cell_type": "markdown",
   "metadata": {},
   "source": [
    "#### 3. Let's approximate $e^x$\n",
    "You might know that the exponential function is commonly *defined* by the series expansion \n",
    "\\begin{equation}\n",
    "  e^x = \\displaystyle\\sum_{j=0}^{\\infty} \\frac{x^j}{j!} = \\frac{x^0}{0!} + \\frac{x^1}{1!} + \\frac{x^2}{2!} + \\frac{x^3}{3!} + ...\n",
    "\\end{equation}\n",
    "where the \"!\" means factorial.  Write a function that approximates $e^x$ with the first six terms in the sum and then check it with $e^0$ and $e^1$."
   ]
  },
  {
   "cell_type": "code",
   "execution_count": null,
   "metadata": {},
   "outputs": [],
   "source": []
  },
  {
   "cell_type": "markdown",
   "metadata": {},
   "source": [
    "#### 4. Eccentric grandma\n",
    "I have an eccentric grandmother that gives me $n$ dollars each year on my $n^{th}$ birthday.\n",
    "I invest each gift in an account that earns 5\\% interest each year.  How much will I have on my 43rd birthday?"
   ]
  },
  {
   "cell_type": "code",
   "execution_count": null,
   "metadata": {},
   "outputs": [],
   "source": []
  }
 ],
 "metadata": {
  "kernelspec": {
   "display_name": "Python 3 (ipykernel)",
   "language": "python",
   "name": "python3"
  },
  "language_info": {
   "codemirror_mode": {
    "name": "ipython",
    "version": 3
   },
   "file_extension": ".py",
   "mimetype": "text/x-python",
   "name": "python",
   "nbconvert_exporter": "python",
   "pygments_lexer": "ipython3",
   "version": "3.11.0"
  }
 },
 "nbformat": 4,
 "nbformat_minor": 4
}
