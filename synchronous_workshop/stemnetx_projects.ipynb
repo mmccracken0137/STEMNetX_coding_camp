{
 "cells": [
  {
   "cell_type": "markdown",
   "metadata": {},
   "source": [
    "# Projects"
   ]
  },
  {
   "cell_type": "markdown",
   "metadata": {},
   "source": [
    "## Basic parameters\n",
    "\n",
    "Hi, all!  Great work this week.  It's time to put your knowledge to the test (not be tested on your knowledge).  Let's do some projects!\n",
    "\n",
    "Here are some details that will help you not bug out about the final projects:\n",
    "- The projects described below are toy models of scientifically relevant systems.  Your goal in investigating these systems is to gain a better understanding of them, **not** to \"solve\" them exhaustively.  \n",
    "- Students will work in groups of 2 or 3.\n",
    "- I will be available for consultation all of Thursday afternoon and Friday morning after 9:15.  Don't suffer!  Please stop by Swanson 100.b!  I like updates *:^)*\n",
    "- Final presentations should be less than 10 minutes in length and include no more than 6 slides.  Here's a good model for your slides:\n",
    "    1. Introduction.  What is the system?  What is the problem?  What is the goal?  Why are you doing this with a computer and not pencil/paper?\n",
    "    2. Analysis/simulation steps.  What are the pieces of your analysis code or simulation?  Tell us what they do rather than showing us the code.\n",
    "    3. At least one graph or visualization\n",
    "    4. Problems encountered\n",
    "    5. Results/conclusions\n",
    "- All group members should contribute equally to the presentation, please!\n",
    "\n",
    "It is up to the groups to decide which group gets which project below.  I need to know who is doing what before 12:00 PM today.\n",
    "\n",
    "***"
   ]
  },
  {
   "cell_type": "markdown",
   "metadata": {},
   "source": [
    "## Project 0: DNA as data\n",
    "Here is a cool problem having to do with DNA structure.  (Please keep in mind that this problem is written by a particle physicist, not someone with a good understanding of DNA structure.)\n",
    "\n",
    "You may know that DNA kind of looks like a ladder, with the rungs represented by *base pairs* made of pairs (duh) of *nucleobases*.\n",
    "Nucleobases are complex molicules that come in four flavors: cytosine [C], guanine [G], adenine [A] or thymine [T].  A and T pair, G and C pair.\n",
    "Genetic information is encoded in the order/sequence of these base pairs.\n",
    "\n",
    "In the `data_files` directory, you'll find the following five files:\n",
    "- dna_1_1000000bps.txt \n",
    "- dna_1_1000bps.txt    \n",
    "- dna_2_1000000bps.txt \n",
    "- dna_2_1000bps.txt\n",
    "- dna_marker_50bps.txt\n",
    "\n",
    "The first four files indicate the type of DNA (1 or 2) and the number of base pairs in the file (1000 or $10^6$).\n",
    "The fifth file contains a small (50 base pairs) snippet of DNA (marker) that is an indicator of a congenital disease.\n",
    "\n",
    "#### Goals\n",
    "1. Determine whether the distribution of base pair types is random in each of the four DNA files.\n",
    "2. Determine whether any of the four DNA files contains the marker given in the fifth file and, if so, where in the sequence the marker lives.\n",
    "\n",
    "#### Steps\n",
    "1. Begin by writing some code that reads in a DNA file and makes bar graphs of the frequencies of the four **base pair** types (*i.e.*, NOT nucleobase types).  Develop/test this file on the smaller files before running on the larger files.\n",
    "2. Write code that reads in a DNA file and the marker file and scans through the sequence of base pairs to check whether chunks of 50 base pairs match the marker.  Find the line number/index at which the marker begins in the sequence and count the number of matches in each file."
   ]
  },
  {
   "cell_type": "markdown",
   "metadata": {},
   "source": [
    "## Project 1: Random walks\n",
    "In this problem, you'll generate the trajectory of an object that makes discrete movements along a single axis.\n",
    "This may seem like it's too simple to be of use, but this problem is a model of the physics responsible for diffusion and mixing.\n",
    "The problem is sometimes called \"the drunkard's walk\" because of the following analogy:\n",
    "\n",
    "> Picture a drunk person leaning against a lamppost in the middle of a very long sidewalk.\n",
    "We'll imagine the $x$-axis as being aligned with this sidewalk and the lamppost at $x = 0$.\n",
    "At time $t = 0$, the person decides that it is time to go home, and sets out making a step of length $0.5$~m every second.\n",
    "There is only one problem: they are so compromised that each step is a random one!\n",
    "The probability that the person steps in the positive-$x$ direction (at each step) is $p_+$, and the probability of a step in the negative-$x$ direction is $p_-$.\n",
    "Each step is a random event and doesn't depend on the previous position.\n",
    "\n",
    "#### Goals\n",
    "1. Simulate random walks in one and two dimensions.\n",
    "2. Calculate statistical quantities that characterize the \"average\" random walk.\n",
    "3. Compare the probability that the agent returns to the origin in one and two dimensions.\n",
    "\n",
    "#### Steps\n",
    "1. Write a program that simulates a random walk in one dimension.  The program should randomly generate a step either to the right (+1) or to the left (-1) with equal probabilities, and make a list of the successive positions of the agent (*i.e.*, the $i^{th}$ element is the agent's position after $i$ steps).  Each walk should last 1000 steps.  Just for something nice to look at, make a graph of the position of the agent versus step number.\n",
    "2. Put the code from step 1 in a loop that simulates $10^4$ such random walks.  Calculate the average final distance from the origin and the number of walks that returned to the origin at least once.\n",
    "4. Now modify your code so that the agent walks in two dimensions.  That is, the agent will either step left, right, up or down with equal probability.  Note that your position list will need to store both the $x$ and $y$ positions after each step; it is likely that your list will be a list of 2-element lists. Calculate the average final distance from the origin and the number of walks that returned to the origin at least once."
   ]
  },
  {
   "cell_type": "markdown",
   "metadata": {},
   "source": [
    "## Project 2: Epidemiological simulation\n",
    "\n",
    "Here is a cool problem having to do with numerical integration.  (See day 1!)\n",
    "\n",
    "Let $f(t)$ be the fraction of a population that have been exposed to a virus as a function of time.  A simple model for how this virus (or a meme, or a rumor, *etc.*) spreads through the population is that the **rate** of spread is proportional to the product of the fraction of people who have the virus and the fraction of people who do not (yet?) have the virus.  [Think about this for a minute!]  For simplicity, we assume that once a person gets the virus, they have it for good.\n",
    "\n",
    "Mathematically, we write this as\n",
    "\n",
    "\\begin{equation}\n",
    "\\frac{df}{dt} = \\beta f (1-f) \n",
    "\\end{equation}\n",
    "\n",
    "where $\\beta$ is called the *transmission constant*.  In this model, $\\beta$ essentially quantifies how transmissable the virus is.\n",
    "\n",
    "#### Goal\n",
    "Gain a better understanding of how quickly this virus spreads through a population, and how this spread depends on $\\beta$.  Often we can control $\\beta$ with simple intervention measures like masking, social distancing, and hand-washing.\n",
    "\n",
    "#### Steps\n",
    "1. Begin by integrating this function from $t = 0$ to some later $t$ at which $f(t)$ is greater than $0.95$.  Use values of $\\beta = 0.01$ and $f(0) = 0.01$.  Make a graph of $f(t)$ versus $t$.\n",
    "2. (According to this model) Will the entire population eventually get the virus?  Justify your conclusion?\n",
    "3. At what $t$ value does 1/2 of the population have the virus?\n",
    "4. Repeat your integration with a smaller transmission rate, $\\beta = 0.005$.  Compare your results for both $\\beta$ values by graphing the two $f(t)$ on the same axes.\n",
    "5. If everyone will eventually get the virus, is there a good reason to reduce the rate at which this happens?\n"
   ]
  }
 ],
 "metadata": {
  "kernelspec": {
   "display_name": "Python 3 (ipykernel)",
   "language": "python",
   "name": "python3"
  },
  "language_info": {
   "codemirror_mode": {
    "name": "ipython",
    "version": 3
   },
   "file_extension": ".py",
   "mimetype": "text/x-python",
   "name": "python",
   "nbconvert_exporter": "python",
   "pygments_lexer": "ipython3",
   "version": "3.11.0"
  }
 },
 "nbformat": 4,
 "nbformat_minor": 4
}
