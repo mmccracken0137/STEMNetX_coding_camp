{
 "cells": [
  {
   "cell_type": "code",
   "execution_count": 7,
   "metadata": {},
   "outputs": [],
   "source": [
    "import numpy as np\n",
    "bp_s = ['AT', 'TA', 'GC', 'CG']\n",
    "n_bps = 1000000\n",
    "\n",
    "weights = [0.27, 0.23, 0.29, 0.21]\n",
    "# weights = [0.25, 0.25, 0.25, 0.25]\n",
    "\n",
    "file = open('data_files/dna_1_' + str(n_bps) + 'bps.txt', 'w')\n",
    "for i in range(n_bps):\n",
    "    # file.write(np.random.choice(bp_s, 1, p=weights)[0])\n",
    "    file.write(np.random.choice(bp_s, 1)[0])\n",
    "    file.write('\\n')\n",
    "\n",
    "file.close()\n"
   ]
  },
  {
   "cell_type": "code",
   "execution_count": 8,
   "metadata": {},
   "outputs": [],
   "source": [
    "bp_s = ['AT', 'TA', 'GC', 'CG']\n",
    "n_bps = 50\n",
    "\n",
    "weights = [0.20, 0.30, 0.20, 0.30]\n",
    "# weights = [0.25, 0.25, 0.25, 0.25]\n",
    "\n",
    "file = open('data_files/dna_marker_' + str(n_bps) + 'bps.txt', 'w')\n",
    "for i in range(n_bps):\n",
    "    file.write(np.random.choice(bp_s, 1, p=weights)[0])\n",
    "    file.write('\\n')\n",
    "\n",
    "file.close()"
   ]
  },
  {
   "cell_type": "code",
   "execution_count": null,
   "metadata": {},
   "outputs": [],
   "source": []
  }
 ],
 "metadata": {
  "kernelspec": {
   "display_name": "Python 3 (ipykernel)",
   "language": "python",
   "name": "python3"
  },
  "language_info": {
   "codemirror_mode": {
    "name": "ipython",
    "version": 3
   },
   "file_extension": ".py",
   "mimetype": "text/x-python",
   "name": "python",
   "nbconvert_exporter": "python",
   "pygments_lexer": "ipython3",
   "version": "3.11.0"
  }
 },
 "nbformat": 4,
 "nbformat_minor": 4
}
